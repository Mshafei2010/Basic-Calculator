{
  "cells": [
    {
      "cell_type": "markdown",
      "metadata": {
        "id": "view-in-github",
        "colab_type": "text"
      },
      "source": [
        "<a href=\"https://colab.research.google.com/github/Mshafei2010/Basic-Calculator/blob/main/Yet_another_copy_of_NLP_assignment.ipynb\" target=\"_parent\"><img src=\"https://colab.research.google.com/assets/colab-badge.svg\" alt=\"Open In Colab\"/></a>"
      ]
    },
    {
      "cell_type": "code",
      "execution_count": null,
      "metadata": {
        "id": "Id_47LXxa4C9",
        "colab": {
          "base_uri": "https://localhost:8080/"
        },
        "outputId": "560f91d1-2d43-4100-eab9-efe8000c0f29"
      },
      "outputs": [
        {
          "output_type": "stream",
          "name": "stderr",
          "text": [
            "[nltk_data] Downloading package stopwords to /root/nltk_data...\n",
            "[nltk_data]   Unzipping corpora/stopwords.zip.\n",
            "[nltk_data] Downloading package punkt to /root/nltk_data...\n",
            "[nltk_data]   Unzipping tokenizers/punkt.zip.\n",
            "[nltk_data] Downloading package words to /root/nltk_data...\n",
            "[nltk_data]   Unzipping corpora/words.zip.\n"
          ]
        },
        {
          "output_type": "execute_result",
          "data": {
            "text/plain": [
              "True"
            ]
          },
          "metadata": {},
          "execution_count": 1
        }
      ],
      "source": [
        "import nltk\n",
        "nltk.download('stopwords')\n",
        "nltk.download('punkt')\n",
        "from nltk.corpus import words\n",
        "nltk.download('words')"
      ]
    },
    {
      "cell_type": "markdown",
      "metadata": {
        "id": "YU-vr8fLa4C_"
      },
      "source": [
        "### Download Data"
      ]
    },
    {
      "cell_type": "code",
      "execution_count": null,
      "metadata": {
        "colab": {
          "base_uri": "https://localhost:8080/"
        },
        "id": "n92CSHkfa4DA",
        "outputId": "21c891b3-0232-4493-9396-906179b4ad3c"
      },
      "outputs": [
        {
          "output_type": "stream",
          "name": "stderr",
          "text": [
            "[nltk_data] Downloading package twitter_samples to /root/nltk_data...\n",
            "[nltk_data]   Unzipping corpora/twitter_samples.zip.\n"
          ]
        },
        {
          "output_type": "execute_result",
          "data": {
            "text/plain": [
              "True"
            ]
          },
          "metadata": {},
          "execution_count": 2
        }
      ],
      "source": [
        "nltk.download('twitter_samples')"
      ]
    },
    {
      "cell_type": "code",
      "execution_count": null,
      "metadata": {
        "id": "zZhz4F88a4DB"
      },
      "outputs": [],
      "source": [
        "from nltk.corpus import twitter_samples"
      ]
    },
    {
      "cell_type": "markdown",
      "metadata": {
        "id": "ud9LDqT7a4DB"
      },
      "source": [
        "### Read Data"
      ]
    },
    {
      "cell_type": "code",
      "execution_count": null,
      "metadata": {
        "id": "Qo5hREUwa4DC"
      },
      "outputs": [],
      "source": [
        "positive_tweets=twitter_samples.strings('positive_tweets.json')\n",
        "negative_tweets=twitter_samples.strings('negative_tweets.json')"
      ]
    },
    {
      "cell_type": "code",
      "execution_count": null,
      "metadata": {
        "colab": {
          "base_uri": "https://localhost:8080/"
        },
        "id": "ZBTlI4Kia4DC",
        "outputId": "104603a0-2848-4b09-83a7-077530d275fe"
      },
      "outputs": [
        {
          "output_type": "stream",
          "name": "stdout",
          "text": [
            "Positive Tweets :  5000\n",
            "Negative Tweets :  5000\n"
          ]
        }
      ],
      "source": [
        "print(\"Positive Tweets : \",len(positive_tweets))\n",
        "print(\"Negative Tweets : \",len(negative_tweets))"
      ]
    },
    {
      "cell_type": "code",
      "source": [
        "positive_tweets[0]"
      ],
      "metadata": {
        "colab": {
          "base_uri": "https://localhost:8080/"
        },
        "id": "5lPHJIpnbS1d",
        "outputId": "b9dc1d2e-5e4e-4526-e939-62fd636ce9cc"
      },
      "execution_count": null,
      "outputs": [
        {
          "output_type": "execute_result",
          "data": {
            "text/plain": [
              "'#FollowFriday @France_Inte @PKuchly57 @Milipol_Paris for being top engaged members in my community this week :)'"
            ],
            "application/vnd.google.colaboratory.intrinsic+json": {
              "type": "string"
            }
          },
          "metadata": {},
          "execution_count": 6
        }
      ]
    },
    {
      "cell_type": "code",
      "execution_count": null,
      "metadata": {
        "colab": {
          "base_uri": "https://localhost:8080/"
        },
        "id": "CaT_0hMca4DD",
        "outputId": "c4b7a04e-acb4-429b-e519-d014a948200f"
      },
      "outputs": [
        {
          "output_type": "execute_result",
          "data": {
            "text/plain": [
              "'hopeless for tmr :('"
            ],
            "application/vnd.google.colaboratory.intrinsic+json": {
              "type": "string"
            }
          },
          "metadata": {},
          "execution_count": 7
        }
      ],
      "source": [
        "negative_tweets[0]"
      ]
    },
    {
      "cell_type": "markdown",
      "metadata": {
        "id": "gBH3Efaxa4DD"
      },
      "source": [
        "### Preprocessing"
      ]
    },
    {
      "cell_type": "code",
      "execution_count": null,
      "metadata": {
        "id": "BHFPps9Xa4DM",
        "colab": {
          "base_uri": "https://localhost:8080/"
        },
        "outputId": "e24a80f1-d54a-4e95-b3a1-2134a7c86ffc"
      },
      "outputs": [
        {
          "output_type": "stream",
          "name": "stdout",
          "text": [
            "Collecting emot\n",
            "  Downloading emot-3.1-py3-none-any.whl.metadata (396 bytes)\n",
            "Downloading emot-3.1-py3-none-any.whl (61 kB)\n",
            "\u001b[?25l   \u001b[90m━━━━━━━━━━━━━━━━━━━━━━━━━━━━━━━━━━━━━━━━\u001b[0m \u001b[32m0.0/61.5 kB\u001b[0m \u001b[31m?\u001b[0m eta \u001b[36m-:--:--\u001b[0m\r\u001b[2K   \u001b[90m━━━━━━━━━━━━━━━━━━━━━━━━━━━━━━━━━━━━━━━━\u001b[0m \u001b[32m61.5/61.5 kB\u001b[0m \u001b[31m2.5 MB/s\u001b[0m eta \u001b[36m0:00:00\u001b[0m\n",
            "\u001b[?25hInstalling collected packages: emot\n",
            "Successfully installed emot-3.1\n",
            "Collecting contractions\n",
            "  Downloading contractions-0.1.73-py2.py3-none-any.whl.metadata (1.2 kB)\n",
            "Collecting textsearch>=0.0.21 (from contractions)\n",
            "  Downloading textsearch-0.0.24-py2.py3-none-any.whl.metadata (1.2 kB)\n",
            "Collecting anyascii (from textsearch>=0.0.21->contractions)\n",
            "  Downloading anyascii-0.3.2-py3-none-any.whl.metadata (1.5 kB)\n",
            "Collecting pyahocorasick (from textsearch>=0.0.21->contractions)\n",
            "  Downloading pyahocorasick-2.1.0-cp310-cp310-manylinux_2_5_x86_64.manylinux1_x86_64.manylinux_2_12_x86_64.manylinux2010_x86_64.whl.metadata (13 kB)\n",
            "Downloading contractions-0.1.73-py2.py3-none-any.whl (8.7 kB)\n",
            "Downloading textsearch-0.0.24-py2.py3-none-any.whl (7.6 kB)\n",
            "Downloading anyascii-0.3.2-py3-none-any.whl (289 kB)\n",
            "\u001b[2K   \u001b[90m━━━━━━━━━━━━━━━━━━━━━━━━━━━━━━━━━━━━━━━━\u001b[0m \u001b[32m289.9/289.9 kB\u001b[0m \u001b[31m16.3 MB/s\u001b[0m eta \u001b[36m0:00:00\u001b[0m\n",
            "\u001b[?25hDownloading pyahocorasick-2.1.0-cp310-cp310-manylinux_2_5_x86_64.manylinux1_x86_64.manylinux_2_12_x86_64.manylinux2010_x86_64.whl (110 kB)\n",
            "\u001b[2K   \u001b[90m━━━━━━━━━━━━━━━━━━━━━━━━━━━━━━━━━━━━━━━━\u001b[0m \u001b[32m110.7/110.7 kB\u001b[0m \u001b[31m5.3 MB/s\u001b[0m eta \u001b[36m0:00:00\u001b[0m\n",
            "\u001b[?25hInstalling collected packages: pyahocorasick, anyascii, textsearch, contractions\n",
            "Successfully installed anyascii-0.3.2 contractions-0.1.73 pyahocorasick-2.1.0 textsearch-0.0.24\n"
          ]
        },
        {
          "output_type": "stream",
          "name": "stderr",
          "text": [
            "[nltk_data] Downloading package stopwords to /root/nltk_data...\n",
            "[nltk_data]   Package stopwords is already up-to-date!\n"
          ]
        }
      ],
      "source": [
        "!pip install emot\n",
        "!pip install contractions\n",
        "from nltk.corpus import stopwords\n",
        "from nltk.tokenize import word_tokenize\n",
        "from nltk.stem import WordNetLemmatizer\n",
        "import re\n",
        "nltk.download('stopwords')\n",
        "import nltk\n",
        "import emot\n",
        "import contractions"
      ]
    },
    {
      "cell_type": "code",
      "source": [
        "stopwords = set(stopwords.words('english'))"
      ],
      "metadata": {
        "id": "zk5bncCxu8-9"
      },
      "execution_count": null,
      "outputs": []
    },
    {
      "cell_type": "code",
      "source": [
        "for tweetNum in range(len(positive_tweets)):\n",
        "  positive_tweets[tweetNum]=positive_tweets[tweetNum].lower()\n",
        "  negative_tweets[tweetNum]=negative_tweets[tweetNum].lower()\n",
        "print(positive_tweets[0])\n",
        "print(negative_tweets[0])"
      ],
      "metadata": {
        "colab": {
          "base_uri": "https://localhost:8080/"
        },
        "id": "Ac89FoshtQc-",
        "outputId": "0880eca7-ddcb-4174-fad7-b5a975dbcd32"
      },
      "execution_count": null,
      "outputs": [
        {
          "output_type": "stream",
          "name": "stdout",
          "text": [
            "#followfriday @france_inte @pkuchly57 @milipol_paris for being top engaged members in my community this week :)\n",
            "hopeless for tmr :(\n"
          ]
        }
      ]
    },
    {
      "cell_type": "markdown",
      "source": [],
      "metadata": {
        "id": "VrP4tA4BU9bo"
      }
    },
    {
      "cell_type": "markdown",
      "source": [
        "### Genral Functions for preprocessong"
      ],
      "metadata": {
        "id": "bi5uafxZVAv9"
      }
    },
    {
      "cell_type": "code",
      "source": [
        "def delete_and_append(string, beg_index, end_index, char):\n",
        "  new_string = string[:beg_index] + char + string[end_index + 1:]\n",
        "  return new_string"
      ],
      "metadata": {
        "id": "rZ3KvytXPILc"
      },
      "execution_count": null,
      "outputs": []
    },
    {
      "cell_type": "markdown",
      "source": [
        "##Sample for data\n",
        "\n"
      ],
      "metadata": {
        "id": "1QdcmF3j2mrw"
      }
    },
    {
      "cell_type": "code",
      "source": [
        "nltk.download('wordnet')"
      ],
      "metadata": {
        "colab": {
          "base_uri": "https://localhost:8080/"
        },
        "id": "2gincGlcCmwA",
        "outputId": "74862e71-fde8-4366-b245-7ac5576e973d"
      },
      "execution_count": null,
      "outputs": [
        {
          "output_type": "stream",
          "name": "stderr",
          "text": [
            "[nltk_data] Downloading package wordnet to /root/nltk_data...\n"
          ]
        },
        {
          "output_type": "execute_result",
          "data": {
            "text/plain": [
              "True"
            ]
          },
          "metadata": {},
          "execution_count": 12
        }
      ]
    },
    {
      "cell_type": "markdown",
      "source": [
        "### Emojis"
      ],
      "metadata": {
        "id": "YCP4UpBiNApC"
      }
    },
    {
      "cell_type": "code",
      "source": [
        "emot_obj = emot.core.emot()\n",
        "sample = delete_and_append(positive_tweets[0],emot_obj.emoticons(positive_tweets[0])['location'][0][0],emot_obj.emoticons(positive_tweets[0])['location'][0][1],emot_obj.emoticons(positive_tweets[0])['mean'][0].split()[0])\n",
        "print(sample)\n",
        "print(emot_obj.emoticons(positive_tweets[0]))\n",
        "print(emot_obj.emoticons(negative_tweets[0]))"
      ],
      "metadata": {
        "colab": {
          "base_uri": "https://localhost:8080/"
        },
        "id": "rJXb663ENVWu",
        "outputId": "bd69f40b-3068-4f2a-da88-cb24b75faa20"
      },
      "execution_count": null,
      "outputs": [
        {
          "output_type": "stream",
          "name": "stdout",
          "text": [
            "#followfriday @france_inte @pkuchly57 @milipol_paris for being top engaged members in my community this week Happy\n",
            "{'value': [':)'], 'location': [[109, 111]], 'mean': ['Happy face or smiley'], 'flag': True}\n",
            "{'value': [':('], 'location': [[17, 19]], 'mean': ['Frown, sad, andry or pouting'], 'flag': True}\n"
          ]
        }
      ]
    },
    {
      "cell_type": "markdown",
      "source": [
        "### remove hastags and mentions"
      ],
      "metadata": {
        "id": "V5mI6IEFR0g6"
      }
    },
    {
      "cell_type": "code",
      "source": [
        "hastag_mentions_free= text = re.sub(r'#\\w+', '', sample)\n",
        "hastag_mentions_free= text = re.sub(r'@\\w+', '', hastag_mentions_free)\n",
        "hastag_mentions_free=hastag_mentions_free.lstrip(' ')\n",
        "print(hastag_mentions_free)\n"
      ],
      "metadata": {
        "colab": {
          "base_uri": "https://localhost:8080/"
        },
        "id": "hIAPnRsgR5Xh",
        "outputId": "0e5f814c-04af-4118-b504-de984ae48966"
      },
      "execution_count": null,
      "outputs": [
        {
          "output_type": "stream",
          "name": "stdout",
          "text": [
            "for being top engaged members in my community this week Happy\n"
          ]
        }
      ]
    },
    {
      "cell_type": "code",
      "source": [
        "words = word_tokenize(hastag_mentions_free)\n",
        "print(words)\n",
        "filtered_words = [word for word in words if word not in stopwords]\n",
        "print(filtered_words)"
      ],
      "metadata": {
        "colab": {
          "base_uri": "https://localhost:8080/"
        },
        "id": "rVfMH51HuvyD",
        "outputId": "2b1def1e-115f-4ddd-e344-890a56b3dfb1"
      },
      "execution_count": null,
      "outputs": [
        {
          "output_type": "stream",
          "name": "stdout",
          "text": [
            "['for', 'being', 'top', 'engaged', 'members', 'in', 'my', 'community', 'this', 'week', 'Happy']\n",
            "['top', 'engaged', 'members', 'community', 'week', 'Happy']\n"
          ]
        }
      ]
    },
    {
      "cell_type": "code",
      "source": [
        "lemmatizer=WordNetLemmatizer()\n",
        "lemmatized_words=[lemmatizer.lemmatize(word,pos='v') for word in filtered_words]\n",
        "lemmatized_words=[lemmatizer.lemmatize(word,pos='a') for word in lemmatized_words]\n",
        "lemmatized_words=[lemmatizer.lemmatize(word,pos='r') for word in lemmatized_words]\n",
        "lemmatized_words=[lemmatizer.lemmatize(word,pos='s') for word in lemmatized_words]\n",
        "lemmatized_words=[lemmatizer.lemmatize(word,pos='n') for word in lemmatized_words]\n",
        "print(lemmatized_words)"
      ],
      "metadata": {
        "colab": {
          "base_uri": "https://localhost:8080/"
        },
        "id": "KTluQxckvxjJ",
        "outputId": "01b4f31e-687e-48a7-866f-8816fff0551b"
      },
      "execution_count": null,
      "outputs": [
        {
          "output_type": "stream",
          "name": "stdout",
          "text": [
            "['top', 'engage', 'member', 'community', 'week', 'Happy']\n"
          ]
        }
      ]
    },
    {
      "cell_type": "code",
      "source": [
        "filtered_word = [re.sub(r'[^\\w\\s]', '', word).strip() for word in lemmatized_words if re.sub(r'[^\\w\\s]', '', word).strip() != '']\n",
        "print(filtered_word)"
      ],
      "metadata": {
        "colab": {
          "base_uri": "https://localhost:8080/"
        },
        "id": "BMZ66ap8w_l2",
        "outputId": "39549190-bd67-4156-8e50-f4c083dab3e7"
      },
      "execution_count": null,
      "outputs": [
        {
          "output_type": "stream",
          "name": "stdout",
          "text": [
            "['top', 'engage', 'member', 'community', 'week', 'Happy']\n"
          ]
        }
      ]
    },
    {
      "cell_type": "code",
      "source": [
        "t=\"15180251\"\n",
        "print(t.isdigit())\n"
      ],
      "metadata": {
        "colab": {
          "base_uri": "https://localhost:8080/"
        },
        "id": "sCm8OwXq5hWz",
        "outputId": "09ec90eb-cb8e-4d67-f12c-963e13ffa5d4"
      },
      "execution_count": null,
      "outputs": [
        {
          "output_type": "stream",
          "name": "stdout",
          "text": [
            "True\n"
          ]
        }
      ]
    },
    {
      "cell_type": "markdown",
      "source": [
        "## Work on all Data"
      ],
      "metadata": {
        "id": "OISXOqNg2sFP"
      }
    },
    {
      "cell_type": "code",
      "source": [
        "# prompt: search in stopwords for \"us\"\n",
        "\n",
        "if \"us\" in stopwords:\n",
        "  print(\"us is in stopwords\")\n",
        "else:\n",
        "  print(\"us is not in stopwords\")\n",
        "  stopwords.add(\"us\")\n",
        "  print(\"us is added to stopwords\")\n"
      ],
      "metadata": {
        "colab": {
          "base_uri": "https://localhost:8080/"
        },
        "id": "6dnln8yToajm",
        "outputId": "024fa9ce-fbc2-4080-e22c-2742cdc0e117"
      },
      "execution_count": null,
      "outputs": [
        {
          "output_type": "stream",
          "name": "stdout",
          "text": [
            "us is not in stopwords\n",
            "us is added to stopwords\n"
          ]
        }
      ]
    },
    {
      "cell_type": "code",
      "source": [
        "import emot\n",
        "import contractions\n",
        "import re\n",
        "from nltk.tokenize import word_tokenize\n",
        "from nltk.stem import WordNetLemmatizer\n",
        "from nltk.corpus import words\n",
        "english_wordss = set(words.words()) # Now uses the words module\n"
      ],
      "metadata": {
        "id": "YN4AVd4zDGhU"
      },
      "execution_count": null,
      "outputs": []
    },
    {
      "cell_type": "code",
      "source": [
        "emot_obj = emot.core.emot()\n",
        "def preprocess_tweet(tweet):\n",
        "  #I'm -> I am\n",
        "  tweet = contractions.fix(tweet)\n",
        "  #emotions\n",
        "  if emot_obj.emoticons(tweet)['location']!=[] or emot_obj.emoticons(tweet)['mean']!=[]:\n",
        "    tweet_with_emo = delete_and_append(tweet,emot_obj.emoticons(tweet)['location'][0][0],emot_obj.emoticons(tweet)['location'][0][0],emot_obj.emoticons(tweet)['mean'][0].split()[0])\n",
        "  else:\n",
        "    tweet_with_emo=tweet\n",
        "  #hashtag\n",
        "  tweet_hastag_free= re.sub(r'#\\w+', '', tweet_with_emo)\n",
        "  #mentions\n",
        "  tweet_mentions_free= re.sub(r'@\\w+', '', tweet_hastag_free)\n",
        "  #spaces\n",
        "  hastag_mentions_free=tweet_mentions_free.lstrip(' ')\n",
        "  #get each word\n",
        "  words = word_tokenize(hastag_mentions_free)\n",
        "  #filter from stopwords\n",
        "  filtered_words = [word for word in words if word not in stopwords]\n",
        "  #make limitize for for words\n",
        "  lemmatizer=WordNetLemmatizer()\n",
        "  #verb\n",
        "  lemmatized_words=[lemmatizer.lemmatize(word,pos='v') for word in filtered_words]\n",
        "  #adjective \"better\" → \"good\"\n",
        "  lemmatized_words=[lemmatizer.lemmatize(word,pos='a') for word in lemmatized_words]\n",
        "  #adverbs \"best\" → \"well\"\n",
        "  lemmatized_words=[lemmatizer.lemmatize(word,pos='r') for word in lemmatized_words]\n",
        "  #remove plural\n",
        "  lemmatized_words=[lemmatizer.lemmatize(word,pos='s') for word in lemmatized_words]\n",
        "  #noun\n",
        "  #ERRRRRORRRRR us -> u ------> fixed by adding us\n",
        "  lemmatized_words=[lemmatizer.lemmatize(word,pos='n') for word in lemmatized_words]\n",
        "  #remove special charcters and spaces\n",
        "  filtered_word = [re.sub(r'[^\\w\\s]', '', word).strip() for word in lemmatized_words if re.sub(r'[^\\w\\s]', '', word).strip() != '']\n",
        "  #filter digits\n",
        "  filtered_word = [word for word in filtered_word if not word.isdigit()]\n",
        "  #remove words with numbers\n",
        "  filtered_word = [word for word in filtered_word if not any(char.isdigit() for char in word)]\n",
        "  #remove non english\n",
        "  filtered_word = [word for word in filtered_word if word.isalpha()]\n",
        "  return filtered_word"
      ],
      "metadata": {
        "id": "hCxo-zG42Y5h"
      },
      "execution_count": null,
      "outputs": []
    },
    {
      "cell_type": "code",
      "source": [
        "positive_preprocessed_tweets=[]\n",
        "for tweetNum in range(len(positive_tweets)):\n",
        "  result = preprocess_tweet(positive_tweets[tweetNum])\n",
        "  if result != []:\n",
        "    positive_preprocessed_tweets.append(result)\n",
        "  else:\n",
        "    print(tweetNum)\n",
        "negative_preprocessed_tweets=[]\n",
        "for tweetNum in range(len(negative_tweets)):\n",
        "  result = preprocess_tweet(negative_tweets[tweetNum])\n",
        "  if result != []:\n",
        "    negative_preprocessed_tweets.append(result)\n",
        "  else:\n",
        "    print(tweetNum)"
      ],
      "metadata": {
        "id": "nRRIjdvv5_cZ",
        "colab": {
          "base_uri": "https://localhost:8080/"
        },
        "outputId": "b88a9a9a-fbb4-4af4-a121-b453e34b69ca"
      },
      "execution_count": null,
      "outputs": [
        {
          "output_type": "stream",
          "name": "stdout",
          "text": [
            "985\n",
            "1136\n",
            "2703\n",
            "254\n"
          ]
        }
      ]
    },
    {
      "cell_type": "code",
      "source": [
        "print(positive_preprocessed_tweets[0])\n",
        "print(negative_tweets[0])\n",
        "print(positive_preprocessed_tweets)\n",
        "print(negative_preprocessed_tweets)"
      ],
      "metadata": {
        "id": "HhHe1MfB6Jv2"
      },
      "execution_count": null,
      "outputs": []
    },
    {
      "cell_type": "markdown",
      "source": [
        "### Word Empedding"
      ],
      "metadata": {
        "id": "myDRNmLtF5EE"
      }
    },
    {
      "cell_type": "code",
      "source": [
        "import pandas as pd\n",
        "from sklearn.feature_extraction.text import CountVectorizer"
      ],
      "metadata": {
        "id": "-X1Qw4P2Cubt"
      },
      "execution_count": null,
      "outputs": []
    },
    {
      "cell_type": "code",
      "source": [
        "positive_tweets_list = [' '.join(tweet) for tweet in positive_preprocessed_tweets]\n",
        "positive_tweets_list\n",
        "negative_tweets_list = [' '.join(tweet) for tweet in negative_preprocessed_tweets]\n",
        "negative_tweets_list[0]"
      ],
      "metadata": {
        "colab": {
          "base_uri": "https://localhost:8080/",
          "height": 36
        },
        "id": "nRWsLgjLC2BC",
        "outputId": "3efdcd6c-c286-4e32-9865-66b225295fc1"
      },
      "execution_count": null,
      "outputs": [
        {
          "output_type": "execute_result",
          "data": {
            "text/plain": [
              "'hopeless tomorrow Frown'"
            ],
            "application/vnd.google.colaboratory.intrinsic+json": {
              "type": "string"
            }
          },
          "metadata": {},
          "execution_count": 25
        }
      ]
    },
    {
      "cell_type": "code",
      "source": [
        "# prompt: add two lists to get one list\n",
        "\n",
        "all_tweets_list = positive_tweets_list + negative_tweets_list\n"
      ],
      "metadata": {
        "id": "Z3HDTy8eFBjA"
      },
      "execution_count": null,
      "outputs": []
    },
    {
      "cell_type": "code",
      "source": [
        "vectorizer = CountVectorizer()\n",
        "tweets_matrix = vectorizer.fit_transform(all_tweets_list)"
      ],
      "metadata": {
        "id": "MIK09TPHDMgN"
      },
      "execution_count": null,
      "outputs": []
    },
    {
      "cell_type": "code",
      "source": [
        "df = pd.DataFrame(tweets_matrix.toarray(), columns=vectorizer.get_feature_names_out())\n",
        "df.set_index([pd.Index(all_tweets_list)],inplace=True)\n",
        "df"
      ],
      "metadata": {
        "colab": {
          "base_uri": "https://localhost:8080/",
          "height": 1000
        },
        "id": "1O30nyUTDz8r",
        "outputId": "cab283ab-0cdc-45e6-869b-28829d8b0c19"
      },
      "execution_count": null,
      "outputs": [
        {
          "output_type": "execute_result",
          "data": {
            "text/plain": [
              "                                                    aa  aaaaaaaaaaa  \\\n",
              "top engage member community week Happy               0            0   \n",
              "hey jam odd Skeptical please call contact centr...   0            0   \n",
              "listen last night Happy bleed amaze track scotland   0            0   \n",
              "congrats Happy                                       0            0   \n",
              "yeaaaah yippppy accnt verify rqst succeed get b...   0            0   \n",
              "...                                                 ..          ...   \n",
              "want change avi usanele Frown                        0            0   \n",
              "puppy break foot Frown                               0            0   \n",
              "jaebum baby picture Frown                            0            0   \n",
              "mr ahmad maslan cook Frown http                      0            0   \n",
              "hull supporter expect misserable week Frown          0            0   \n",
              "\n",
              "                                                    aaaaaaaaaaaaa  \\\n",
              "top engage member community week Happy                          0   \n",
              "hey jam odd Skeptical please call contact centr...              0   \n",
              "listen last night Happy bleed amaze track scotland              0   \n",
              "congrats Happy                                                  0   \n",
              "yeaaaah yippppy accnt verify rqst succeed get b...              0   \n",
              "...                                                           ...   \n",
              "want change avi usanele Frown                                   0   \n",
              "puppy break foot Frown                                          0   \n",
              "jaebum baby picture Frown                                       0   \n",
              "mr ahmad maslan cook Frown http                                 0   \n",
              "hull supporter expect misserable week Frown                     0   \n",
              "\n",
              "                                                    aaaaaaaaaaaah  aaaaaand  \\\n",
              "top engage member community week Happy                          0         0   \n",
              "hey jam odd Skeptical please call contact centr...              0         0   \n",
              "listen last night Happy bleed amaze track scotland              0         0   \n",
              "congrats Happy                                                  0         0   \n",
              "yeaaaah yippppy accnt verify rqst succeed get b...              0         0   \n",
              "...                                                           ...       ...   \n",
              "want change avi usanele Frown                                   0         0   \n",
              "puppy break foot Frown                                          0         0   \n",
              "jaebum baby picture Frown                                       0         0   \n",
              "mr ahmad maslan cook Frown http                                 0         0   \n",
              "hull supporter expect misserable week Frown                     0         0   \n",
              "\n",
              "                                                    aaaaages  aaaaahhhhhhhh  \\\n",
              "top engage member community week Happy                     0              0   \n",
              "hey jam odd Skeptical please call contact centr...         0              0   \n",
              "listen last night Happy bleed amaze track scotland         0              0   \n",
              "congrats Happy                                             0              0   \n",
              "yeaaaah yippppy accnt verify rqst succeed get b...         0              0   \n",
              "...                                                      ...            ...   \n",
              "want change avi usanele Frown                              0              0   \n",
              "puppy break foot Frown                                     0              0   \n",
              "jaebum baby picture Frown                                  0              0   \n",
              "mr ahmad maslan cook Frown http                            0              0   \n",
              "hull supporter expect misserable week Frown                0              0   \n",
              "\n",
              "                                                    aaaahh  aaaahhh  aaahhh  \\\n",
              "top engage member community week Happy                   0        0       0   \n",
              "hey jam odd Skeptical please call contact centr...       0        0       0   \n",
              "listen last night Happy bleed amaze track scotland       0        0       0   \n",
              "congrats Happy                                           0        0       0   \n",
              "yeaaaah yippppy accnt verify rqst succeed get b...       0        0       0   \n",
              "...                                                    ...      ...     ...   \n",
              "want change avi usanele Frown                            0        0       0   \n",
              "puppy break foot Frown                                   0        0       0   \n",
              "jaebum baby picture Frown                                0        0       0   \n",
              "mr ahmad maslan cook Frown http                          0        0       0   \n",
              "hull supporter expect misserable week Frown              0        0       0   \n",
              "\n",
              "                                                    ...  للحياة  للعودة  एक  \\\n",
              "top engage member community week Happy              ...       0       0   0   \n",
              "hey jam odd Skeptical please call contact centr...  ...       0       0   0   \n",
              "listen last night Happy bleed amaze track scotland  ...       0       0   0   \n",
              "congrats Happy                                      ...       0       0   0   \n",
              "yeaaaah yippppy accnt verify rqst succeed get b...  ...       0       0   0   \n",
              "...                                                 ...     ...     ...  ..   \n",
              "want change avi usanele Frown                       ...       0       0   0   \n",
              "puppy break foot Frown                              ...       0       0   0   \n",
              "jaebum baby picture Frown                           ...       0       0   0   \n",
              "mr ahmad maslan cook Frown http                     ...       0       0   0   \n",
              "hull supporter expect misserable week Frown         ...       0       0   0   \n",
              "\n",
              "                                                    धख  फर  बर  හල  හවල  ｍｅ  \\\n",
              "top engage member community week Happy               0   0   0   0    0   0   \n",
              "hey jam odd Skeptical please call contact centr...   0   0   0   0    0   0   \n",
              "listen last night Happy bleed amaze track scotland   0   0   0   0    0   0   \n",
              "congrats Happy                                       0   0   0   0    0   0   \n",
              "yeaaaah yippppy accnt verify rqst succeed get b...   0   0   0   0    0   0   \n",
              "...                                                 ..  ..  ..  ..  ...  ..   \n",
              "want change avi usanele Frown                        0   0   0   0    0   0   \n",
              "puppy break foot Frown                               0   0   0   0    0   0   \n",
              "jaebum baby picture Frown                            0   0   0   0    0   0   \n",
              "mr ahmad maslan cook Frown http                      0   0   0   0    0   0   \n",
              "hull supporter expect misserable week Frown          0   0   0   0    0   0   \n",
              "\n",
              "                                                    ｓｅｅ  \n",
              "top engage member community week Happy                0  \n",
              "hey jam odd Skeptical please call contact centr...    0  \n",
              "listen last night Happy bleed amaze track scotland    0  \n",
              "congrats Happy                                        0  \n",
              "yeaaaah yippppy accnt verify rqst succeed get b...    0  \n",
              "...                                                 ...  \n",
              "want change avi usanele Frown                         0  \n",
              "puppy break foot Frown                                0  \n",
              "jaebum baby picture Frown                             0  \n",
              "mr ahmad maslan cook Frown http                       0  \n",
              "hull supporter expect misserable week Frown           0  \n",
              "\n",
              "[9996 rows x 9221 columns]"
            ],
            "text/html": [
              "\n",
              "  <div id=\"df-87c18cf6-752b-45ec-b128-5b332e169c75\" class=\"colab-df-container\">\n",
              "    <div>\n",
              "<style scoped>\n",
              "    .dataframe tbody tr th:only-of-type {\n",
              "        vertical-align: middle;\n",
              "    }\n",
              "\n",
              "    .dataframe tbody tr th {\n",
              "        vertical-align: top;\n",
              "    }\n",
              "\n",
              "    .dataframe thead th {\n",
              "        text-align: right;\n",
              "    }\n",
              "</style>\n",
              "<table border=\"1\" class=\"dataframe\">\n",
              "  <thead>\n",
              "    <tr style=\"text-align: right;\">\n",
              "      <th></th>\n",
              "      <th>aa</th>\n",
              "      <th>aaaaaaaaaaa</th>\n",
              "      <th>aaaaaaaaaaaaa</th>\n",
              "      <th>aaaaaaaaaaaah</th>\n",
              "      <th>aaaaaand</th>\n",
              "      <th>aaaaages</th>\n",
              "      <th>aaaaahhhhhhhh</th>\n",
              "      <th>aaaahh</th>\n",
              "      <th>aaaahhh</th>\n",
              "      <th>aaahhh</th>\n",
              "      <th>...</th>\n",
              "      <th>للحياة</th>\n",
              "      <th>للعودة</th>\n",
              "      <th>एक</th>\n",
              "      <th>धख</th>\n",
              "      <th>फर</th>\n",
              "      <th>बर</th>\n",
              "      <th>හල</th>\n",
              "      <th>හවල</th>\n",
              "      <th>ｍｅ</th>\n",
              "      <th>ｓｅｅ</th>\n",
              "    </tr>\n",
              "  </thead>\n",
              "  <tbody>\n",
              "    <tr>\n",
              "      <th>top engage member community week Happy</th>\n",
              "      <td>0</td>\n",
              "      <td>0</td>\n",
              "      <td>0</td>\n",
              "      <td>0</td>\n",
              "      <td>0</td>\n",
              "      <td>0</td>\n",
              "      <td>0</td>\n",
              "      <td>0</td>\n",
              "      <td>0</td>\n",
              "      <td>0</td>\n",
              "      <td>...</td>\n",
              "      <td>0</td>\n",
              "      <td>0</td>\n",
              "      <td>0</td>\n",
              "      <td>0</td>\n",
              "      <td>0</td>\n",
              "      <td>0</td>\n",
              "      <td>0</td>\n",
              "      <td>0</td>\n",
              "      <td>0</td>\n",
              "      <td>0</td>\n",
              "    </tr>\n",
              "    <tr>\n",
              "      <th>hey jam odd Skeptical please call contact centre able assist many thank</th>\n",
              "      <td>0</td>\n",
              "      <td>0</td>\n",
              "      <td>0</td>\n",
              "      <td>0</td>\n",
              "      <td>0</td>\n",
              "      <td>0</td>\n",
              "      <td>0</td>\n",
              "      <td>0</td>\n",
              "      <td>0</td>\n",
              "      <td>0</td>\n",
              "      <td>...</td>\n",
              "      <td>0</td>\n",
              "      <td>0</td>\n",
              "      <td>0</td>\n",
              "      <td>0</td>\n",
              "      <td>0</td>\n",
              "      <td>0</td>\n",
              "      <td>0</td>\n",
              "      <td>0</td>\n",
              "      <td>0</td>\n",
              "      <td>0</td>\n",
              "    </tr>\n",
              "    <tr>\n",
              "      <th>listen last night Happy bleed amaze track scotland</th>\n",
              "      <td>0</td>\n",
              "      <td>0</td>\n",
              "      <td>0</td>\n",
              "      <td>0</td>\n",
              "      <td>0</td>\n",
              "      <td>0</td>\n",
              "      <td>0</td>\n",
              "      <td>0</td>\n",
              "      <td>0</td>\n",
              "      <td>0</td>\n",
              "      <td>...</td>\n",
              "      <td>0</td>\n",
              "      <td>0</td>\n",
              "      <td>0</td>\n",
              "      <td>0</td>\n",
              "      <td>0</td>\n",
              "      <td>0</td>\n",
              "      <td>0</td>\n",
              "      <td>0</td>\n",
              "      <td>0</td>\n",
              "      <td>0</td>\n",
              "    </tr>\n",
              "    <tr>\n",
              "      <th>congrats Happy</th>\n",
              "      <td>0</td>\n",
              "      <td>0</td>\n",
              "      <td>0</td>\n",
              "      <td>0</td>\n",
              "      <td>0</td>\n",
              "      <td>0</td>\n",
              "      <td>0</td>\n",
              "      <td>0</td>\n",
              "      <td>0</td>\n",
              "      <td>0</td>\n",
              "      <td>...</td>\n",
              "      <td>0</td>\n",
              "      <td>0</td>\n",
              "      <td>0</td>\n",
              "      <td>0</td>\n",
              "      <td>0</td>\n",
              "      <td>0</td>\n",
              "      <td>0</td>\n",
              "      <td>0</td>\n",
              "      <td>0</td>\n",
              "      <td>0</td>\n",
              "    </tr>\n",
              "    <tr>\n",
              "      <th>yeaaaah yippppy accnt verify rqst succeed get blue tick mark fb profile Happy day</th>\n",
              "      <td>0</td>\n",
              "      <td>0</td>\n",
              "      <td>0</td>\n",
              "      <td>0</td>\n",
              "      <td>0</td>\n",
              "      <td>0</td>\n",
              "      <td>0</td>\n",
              "      <td>0</td>\n",
              "      <td>0</td>\n",
              "      <td>0</td>\n",
              "      <td>...</td>\n",
              "      <td>0</td>\n",
              "      <td>0</td>\n",
              "      <td>0</td>\n",
              "      <td>0</td>\n",
              "      <td>0</td>\n",
              "      <td>0</td>\n",
              "      <td>0</td>\n",
              "      <td>0</td>\n",
              "      <td>0</td>\n",
              "      <td>0</td>\n",
              "    </tr>\n",
              "    <tr>\n",
              "      <th>...</th>\n",
              "      <td>...</td>\n",
              "      <td>...</td>\n",
              "      <td>...</td>\n",
              "      <td>...</td>\n",
              "      <td>...</td>\n",
              "      <td>...</td>\n",
              "      <td>...</td>\n",
              "      <td>...</td>\n",
              "      <td>...</td>\n",
              "      <td>...</td>\n",
              "      <td>...</td>\n",
              "      <td>...</td>\n",
              "      <td>...</td>\n",
              "      <td>...</td>\n",
              "      <td>...</td>\n",
              "      <td>...</td>\n",
              "      <td>...</td>\n",
              "      <td>...</td>\n",
              "      <td>...</td>\n",
              "      <td>...</td>\n",
              "      <td>...</td>\n",
              "    </tr>\n",
              "    <tr>\n",
              "      <th>want change avi usanele Frown</th>\n",
              "      <td>0</td>\n",
              "      <td>0</td>\n",
              "      <td>0</td>\n",
              "      <td>0</td>\n",
              "      <td>0</td>\n",
              "      <td>0</td>\n",
              "      <td>0</td>\n",
              "      <td>0</td>\n",
              "      <td>0</td>\n",
              "      <td>0</td>\n",
              "      <td>...</td>\n",
              "      <td>0</td>\n",
              "      <td>0</td>\n",
              "      <td>0</td>\n",
              "      <td>0</td>\n",
              "      <td>0</td>\n",
              "      <td>0</td>\n",
              "      <td>0</td>\n",
              "      <td>0</td>\n",
              "      <td>0</td>\n",
              "      <td>0</td>\n",
              "    </tr>\n",
              "    <tr>\n",
              "      <th>puppy break foot Frown</th>\n",
              "      <td>0</td>\n",
              "      <td>0</td>\n",
              "      <td>0</td>\n",
              "      <td>0</td>\n",
              "      <td>0</td>\n",
              "      <td>0</td>\n",
              "      <td>0</td>\n",
              "      <td>0</td>\n",
              "      <td>0</td>\n",
              "      <td>0</td>\n",
              "      <td>...</td>\n",
              "      <td>0</td>\n",
              "      <td>0</td>\n",
              "      <td>0</td>\n",
              "      <td>0</td>\n",
              "      <td>0</td>\n",
              "      <td>0</td>\n",
              "      <td>0</td>\n",
              "      <td>0</td>\n",
              "      <td>0</td>\n",
              "      <td>0</td>\n",
              "    </tr>\n",
              "    <tr>\n",
              "      <th>jaebum baby picture Frown</th>\n",
              "      <td>0</td>\n",
              "      <td>0</td>\n",
              "      <td>0</td>\n",
              "      <td>0</td>\n",
              "      <td>0</td>\n",
              "      <td>0</td>\n",
              "      <td>0</td>\n",
              "      <td>0</td>\n",
              "      <td>0</td>\n",
              "      <td>0</td>\n",
              "      <td>...</td>\n",
              "      <td>0</td>\n",
              "      <td>0</td>\n",
              "      <td>0</td>\n",
              "      <td>0</td>\n",
              "      <td>0</td>\n",
              "      <td>0</td>\n",
              "      <td>0</td>\n",
              "      <td>0</td>\n",
              "      <td>0</td>\n",
              "      <td>0</td>\n",
              "    </tr>\n",
              "    <tr>\n",
              "      <th>mr ahmad maslan cook Frown http</th>\n",
              "      <td>0</td>\n",
              "      <td>0</td>\n",
              "      <td>0</td>\n",
              "      <td>0</td>\n",
              "      <td>0</td>\n",
              "      <td>0</td>\n",
              "      <td>0</td>\n",
              "      <td>0</td>\n",
              "      <td>0</td>\n",
              "      <td>0</td>\n",
              "      <td>...</td>\n",
              "      <td>0</td>\n",
              "      <td>0</td>\n",
              "      <td>0</td>\n",
              "      <td>0</td>\n",
              "      <td>0</td>\n",
              "      <td>0</td>\n",
              "      <td>0</td>\n",
              "      <td>0</td>\n",
              "      <td>0</td>\n",
              "      <td>0</td>\n",
              "    </tr>\n",
              "    <tr>\n",
              "      <th>hull supporter expect misserable week Frown</th>\n",
              "      <td>0</td>\n",
              "      <td>0</td>\n",
              "      <td>0</td>\n",
              "      <td>0</td>\n",
              "      <td>0</td>\n",
              "      <td>0</td>\n",
              "      <td>0</td>\n",
              "      <td>0</td>\n",
              "      <td>0</td>\n",
              "      <td>0</td>\n",
              "      <td>...</td>\n",
              "      <td>0</td>\n",
              "      <td>0</td>\n",
              "      <td>0</td>\n",
              "      <td>0</td>\n",
              "      <td>0</td>\n",
              "      <td>0</td>\n",
              "      <td>0</td>\n",
              "      <td>0</td>\n",
              "      <td>0</td>\n",
              "      <td>0</td>\n",
              "    </tr>\n",
              "  </tbody>\n",
              "</table>\n",
              "<p>9996 rows × 9221 columns</p>\n",
              "</div>\n",
              "    <div class=\"colab-df-buttons\">\n",
              "\n",
              "  <div class=\"colab-df-container\">\n",
              "    <button class=\"colab-df-convert\" onclick=\"convertToInteractive('df-87c18cf6-752b-45ec-b128-5b332e169c75')\"\n",
              "            title=\"Convert this dataframe to an interactive table.\"\n",
              "            style=\"display:none;\">\n",
              "\n",
              "  <svg xmlns=\"http://www.w3.org/2000/svg\" height=\"24px\" viewBox=\"0 -960 960 960\">\n",
              "    <path d=\"M120-120v-720h720v720H120Zm60-500h600v-160H180v160Zm220 220h160v-160H400v160Zm0 220h160v-160H400v160ZM180-400h160v-160H180v160Zm440 0h160v-160H620v160ZM180-180h160v-160H180v160Zm440 0h160v-160H620v160Z\"/>\n",
              "  </svg>\n",
              "    </button>\n",
              "\n",
              "  <style>\n",
              "    .colab-df-container {\n",
              "      display:flex;\n",
              "      gap: 12px;\n",
              "    }\n",
              "\n",
              "    .colab-df-convert {\n",
              "      background-color: #E8F0FE;\n",
              "      border: none;\n",
              "      border-radius: 50%;\n",
              "      cursor: pointer;\n",
              "      display: none;\n",
              "      fill: #1967D2;\n",
              "      height: 32px;\n",
              "      padding: 0 0 0 0;\n",
              "      width: 32px;\n",
              "    }\n",
              "\n",
              "    .colab-df-convert:hover {\n",
              "      background-color: #E2EBFA;\n",
              "      box-shadow: 0px 1px 2px rgba(60, 64, 67, 0.3), 0px 1px 3px 1px rgba(60, 64, 67, 0.15);\n",
              "      fill: #174EA6;\n",
              "    }\n",
              "\n",
              "    .colab-df-buttons div {\n",
              "      margin-bottom: 4px;\n",
              "    }\n",
              "\n",
              "    [theme=dark] .colab-df-convert {\n",
              "      background-color: #3B4455;\n",
              "      fill: #D2E3FC;\n",
              "    }\n",
              "\n",
              "    [theme=dark] .colab-df-convert:hover {\n",
              "      background-color: #434B5C;\n",
              "      box-shadow: 0px 1px 3px 1px rgba(0, 0, 0, 0.15);\n",
              "      filter: drop-shadow(0px 1px 2px rgba(0, 0, 0, 0.3));\n",
              "      fill: #FFFFFF;\n",
              "    }\n",
              "  </style>\n",
              "\n",
              "    <script>\n",
              "      const buttonEl =\n",
              "        document.querySelector('#df-87c18cf6-752b-45ec-b128-5b332e169c75 button.colab-df-convert');\n",
              "      buttonEl.style.display =\n",
              "        google.colab.kernel.accessAllowed ? 'block' : 'none';\n",
              "\n",
              "      async function convertToInteractive(key) {\n",
              "        const element = document.querySelector('#df-87c18cf6-752b-45ec-b128-5b332e169c75');\n",
              "        const dataTable =\n",
              "          await google.colab.kernel.invokeFunction('convertToInteractive',\n",
              "                                                    [key], {});\n",
              "        if (!dataTable) return;\n",
              "\n",
              "        const docLinkHtml = 'Like what you see? Visit the ' +\n",
              "          '<a target=\"_blank\" href=https://colab.research.google.com/notebooks/data_table.ipynb>data table notebook</a>'\n",
              "          + ' to learn more about interactive tables.';\n",
              "        element.innerHTML = '';\n",
              "        dataTable['output_type'] = 'display_data';\n",
              "        await google.colab.output.renderOutput(dataTable, element);\n",
              "        const docLink = document.createElement('div');\n",
              "        docLink.innerHTML = docLinkHtml;\n",
              "        element.appendChild(docLink);\n",
              "      }\n",
              "    </script>\n",
              "  </div>\n",
              "\n",
              "\n",
              "<div id=\"df-a0d79b43-2f26-4cdc-85b2-5aa10865b2fe\">\n",
              "  <button class=\"colab-df-quickchart\" onclick=\"quickchart('df-a0d79b43-2f26-4cdc-85b2-5aa10865b2fe')\"\n",
              "            title=\"Suggest charts\"\n",
              "            style=\"display:none;\">\n",
              "\n",
              "<svg xmlns=\"http://www.w3.org/2000/svg\" height=\"24px\"viewBox=\"0 0 24 24\"\n",
              "     width=\"24px\">\n",
              "    <g>\n",
              "        <path d=\"M19 3H5c-1.1 0-2 .9-2 2v14c0 1.1.9 2 2 2h14c1.1 0 2-.9 2-2V5c0-1.1-.9-2-2-2zM9 17H7v-7h2v7zm4 0h-2V7h2v10zm4 0h-2v-4h2v4z\"/>\n",
              "    </g>\n",
              "</svg>\n",
              "  </button>\n",
              "\n",
              "<style>\n",
              "  .colab-df-quickchart {\n",
              "      --bg-color: #E8F0FE;\n",
              "      --fill-color: #1967D2;\n",
              "      --hover-bg-color: #E2EBFA;\n",
              "      --hover-fill-color: #174EA6;\n",
              "      --disabled-fill-color: #AAA;\n",
              "      --disabled-bg-color: #DDD;\n",
              "  }\n",
              "\n",
              "  [theme=dark] .colab-df-quickchart {\n",
              "      --bg-color: #3B4455;\n",
              "      --fill-color: #D2E3FC;\n",
              "      --hover-bg-color: #434B5C;\n",
              "      --hover-fill-color: #FFFFFF;\n",
              "      --disabled-bg-color: #3B4455;\n",
              "      --disabled-fill-color: #666;\n",
              "  }\n",
              "\n",
              "  .colab-df-quickchart {\n",
              "    background-color: var(--bg-color);\n",
              "    border: none;\n",
              "    border-radius: 50%;\n",
              "    cursor: pointer;\n",
              "    display: none;\n",
              "    fill: var(--fill-color);\n",
              "    height: 32px;\n",
              "    padding: 0;\n",
              "    width: 32px;\n",
              "  }\n",
              "\n",
              "  .colab-df-quickchart:hover {\n",
              "    background-color: var(--hover-bg-color);\n",
              "    box-shadow: 0 1px 2px rgba(60, 64, 67, 0.3), 0 1px 3px 1px rgba(60, 64, 67, 0.15);\n",
              "    fill: var(--button-hover-fill-color);\n",
              "  }\n",
              "\n",
              "  .colab-df-quickchart-complete:disabled,\n",
              "  .colab-df-quickchart-complete:disabled:hover {\n",
              "    background-color: var(--disabled-bg-color);\n",
              "    fill: var(--disabled-fill-color);\n",
              "    box-shadow: none;\n",
              "  }\n",
              "\n",
              "  .colab-df-spinner {\n",
              "    border: 2px solid var(--fill-color);\n",
              "    border-color: transparent;\n",
              "    border-bottom-color: var(--fill-color);\n",
              "    animation:\n",
              "      spin 1s steps(1) infinite;\n",
              "  }\n",
              "\n",
              "  @keyframes spin {\n",
              "    0% {\n",
              "      border-color: transparent;\n",
              "      border-bottom-color: var(--fill-color);\n",
              "      border-left-color: var(--fill-color);\n",
              "    }\n",
              "    20% {\n",
              "      border-color: transparent;\n",
              "      border-left-color: var(--fill-color);\n",
              "      border-top-color: var(--fill-color);\n",
              "    }\n",
              "    30% {\n",
              "      border-color: transparent;\n",
              "      border-left-color: var(--fill-color);\n",
              "      border-top-color: var(--fill-color);\n",
              "      border-right-color: var(--fill-color);\n",
              "    }\n",
              "    40% {\n",
              "      border-color: transparent;\n",
              "      border-right-color: var(--fill-color);\n",
              "      border-top-color: var(--fill-color);\n",
              "    }\n",
              "    60% {\n",
              "      border-color: transparent;\n",
              "      border-right-color: var(--fill-color);\n",
              "    }\n",
              "    80% {\n",
              "      border-color: transparent;\n",
              "      border-right-color: var(--fill-color);\n",
              "      border-bottom-color: var(--fill-color);\n",
              "    }\n",
              "    90% {\n",
              "      border-color: transparent;\n",
              "      border-bottom-color: var(--fill-color);\n",
              "    }\n",
              "  }\n",
              "</style>\n",
              "\n",
              "  <script>\n",
              "    async function quickchart(key) {\n",
              "      const quickchartButtonEl =\n",
              "        document.querySelector('#' + key + ' button');\n",
              "      quickchartButtonEl.disabled = true;  // To prevent multiple clicks.\n",
              "      quickchartButtonEl.classList.add('colab-df-spinner');\n",
              "      try {\n",
              "        const charts = await google.colab.kernel.invokeFunction(\n",
              "            'suggestCharts', [key], {});\n",
              "      } catch (error) {\n",
              "        console.error('Error during call to suggestCharts:', error);\n",
              "      }\n",
              "      quickchartButtonEl.classList.remove('colab-df-spinner');\n",
              "      quickchartButtonEl.classList.add('colab-df-quickchart-complete');\n",
              "    }\n",
              "    (() => {\n",
              "      let quickchartButtonEl =\n",
              "        document.querySelector('#df-a0d79b43-2f26-4cdc-85b2-5aa10865b2fe button');\n",
              "      quickchartButtonEl.style.display =\n",
              "        google.colab.kernel.accessAllowed ? 'block' : 'none';\n",
              "    })();\n",
              "  </script>\n",
              "</div>\n",
              "\n",
              "  <div id=\"id_6c2cd9fe-edd0-468b-b726-50315a468ba9\">\n",
              "    <style>\n",
              "      .colab-df-generate {\n",
              "        background-color: #E8F0FE;\n",
              "        border: none;\n",
              "        border-radius: 50%;\n",
              "        cursor: pointer;\n",
              "        display: none;\n",
              "        fill: #1967D2;\n",
              "        height: 32px;\n",
              "        padding: 0 0 0 0;\n",
              "        width: 32px;\n",
              "      }\n",
              "\n",
              "      .colab-df-generate:hover {\n",
              "        background-color: #E2EBFA;\n",
              "        box-shadow: 0px 1px 2px rgba(60, 64, 67, 0.3), 0px 1px 3px 1px rgba(60, 64, 67, 0.15);\n",
              "        fill: #174EA6;\n",
              "      }\n",
              "\n",
              "      [theme=dark] .colab-df-generate {\n",
              "        background-color: #3B4455;\n",
              "        fill: #D2E3FC;\n",
              "      }\n",
              "\n",
              "      [theme=dark] .colab-df-generate:hover {\n",
              "        background-color: #434B5C;\n",
              "        box-shadow: 0px 1px 3px 1px rgba(0, 0, 0, 0.15);\n",
              "        filter: drop-shadow(0px 1px 2px rgba(0, 0, 0, 0.3));\n",
              "        fill: #FFFFFF;\n",
              "      }\n",
              "    </style>\n",
              "    <button class=\"colab-df-generate\" onclick=\"generateWithVariable('df')\"\n",
              "            title=\"Generate code using this dataframe.\"\n",
              "            style=\"display:none;\">\n",
              "\n",
              "  <svg xmlns=\"http://www.w3.org/2000/svg\" height=\"24px\"viewBox=\"0 0 24 24\"\n",
              "       width=\"24px\">\n",
              "    <path d=\"M7,19H8.4L18.45,9,17,7.55,7,17.6ZM5,21V16.75L18.45,3.32a2,2,0,0,1,2.83,0l1.4,1.43a1.91,1.91,0,0,1,.58,1.4,1.91,1.91,0,0,1-.58,1.4L9.25,21ZM18.45,9,17,7.55Zm-12,3A5.31,5.31,0,0,0,4.9,8.1,5.31,5.31,0,0,0,1,6.5,5.31,5.31,0,0,0,4.9,4.9,5.31,5.31,0,0,0,6.5,1,5.31,5.31,0,0,0,8.1,4.9,5.31,5.31,0,0,0,12,6.5,5.46,5.46,0,0,0,6.5,12Z\"/>\n",
              "  </svg>\n",
              "    </button>\n",
              "    <script>\n",
              "      (() => {\n",
              "      const buttonEl =\n",
              "        document.querySelector('#id_6c2cd9fe-edd0-468b-b726-50315a468ba9 button.colab-df-generate');\n",
              "      buttonEl.style.display =\n",
              "        google.colab.kernel.accessAllowed ? 'block' : 'none';\n",
              "\n",
              "      buttonEl.onclick = () => {\n",
              "        google.colab.notebook.generateWithVariable('df');\n",
              "      }\n",
              "      })();\n",
              "    </script>\n",
              "  </div>\n",
              "\n",
              "    </div>\n",
              "  </div>\n"
            ],
            "application/vnd.google.colaboratory.intrinsic+json": {
              "type": "dataframe",
              "variable_name": "df"
            }
          },
          "metadata": {},
          "execution_count": 28
        }
      ]
    },
    {
      "cell_type": "markdown",
      "source": [
        "### TF-IDF"
      ],
      "metadata": {
        "id": "8FmlOviZKfu6"
      }
    },
    {
      "cell_type": "code",
      "source": [
        "from sklearn.feature_extraction.text import TfidfVectorizer"
      ],
      "metadata": {
        "id": "ziFfDv13FZvg"
      },
      "execution_count": null,
      "outputs": []
    },
    {
      "cell_type": "code",
      "source": [
        "def TF_id(all_tweets_lists):\n",
        "  TFvectorizer = TfidfVectorizer()\n",
        "  tweets_matrix = TFvectorizer.fit_transform(all_tweets_lists)\n",
        "  TFdf = pd.DataFrame(tweets_matrix.toarray(), columns=TFvectorizer.get_feature_names_out())\n",
        "  TFdf.set_index([pd.Index(all_tweets_lists)],inplace=True)\n",
        "  return TFdf"
      ],
      "metadata": {
        "id": "-3o1DRviKnSe"
      },
      "execution_count": null,
      "outputs": []
    },
    {
      "cell_type": "code",
      "source": [
        "tf_idf_df = TF_id(all_tweets_list)"
      ],
      "metadata": {
        "id": "yqebwStzLeYz"
      },
      "execution_count": null,
      "outputs": []
    },
    {
      "cell_type": "markdown",
      "source": [
        "### Word2Vec"
      ],
      "metadata": {
        "id": "dTEiBP3vYttm"
      }
    },
    {
      "cell_type": "code",
      "source": [
        "from gensim.models import Word2Vec"
      ],
      "metadata": {
        "id": "ADK3cAUlYxnI"
      },
      "execution_count": null,
      "outputs": []
    },
    {
      "cell_type": "code",
      "source": [
        "all_tweets_list"
      ],
      "metadata": {
        "id": "ob7cUy-RZo67",
        "collapsed": true
      },
      "execution_count": null,
      "outputs": []
    },
    {
      "cell_type": "code",
      "source": [
        "all_tweets_words_list=[]\n",
        "for i in range(len(all_tweets_list)):\n",
        "  words = word_tokenize(all_tweets_list[i])\n",
        "  all_tweets_words_list.append(words)\n",
        "print(all_tweets_words_list)"
      ],
      "metadata": {
        "id": "fL8PJgYYZXch",
        "collapsed": true
      },
      "execution_count": null,
      "outputs": []
    },
    {
      "cell_type": "code",
      "source": [
        "word_model = Word2Vec(all_tweets_words_list, vector_size=100 , window = 3 , sg=1 , min_count=1)\n",
        "word_vectors = word_model.wv['happy']\n",
        "print(word_vectors)"
      ],
      "metadata": {
        "colab": {
          "base_uri": "https://localhost:8080/"
        },
        "id": "MlhUr5y7LIc5",
        "outputId": "3dc919dd-25ed-4af5-f5cb-e90564091768"
      },
      "execution_count": null,
      "outputs": [
        {
          "output_type": "stream",
          "name": "stdout",
          "text": [
            "[-9.24687237e-02  1.19103462e-01 -9.96136218e-02  3.26608773e-03\n",
            "  1.30256504e-01 -5.24748266e-01  1.65492833e-01  5.31925559e-01\n",
            " -4.30912286e-01 -2.52728343e-01 -5.87241948e-02 -4.98686641e-01\n",
            " -8.26125592e-02  3.95655096e-01  2.13366807e-01  2.14719504e-01\n",
            "  3.83235842e-01 -1.80648178e-01 -1.58337802e-01 -5.83938360e-01\n",
            "  1.54507875e-01  1.47117242e-01  1.61156401e-01 -1.04513280e-01\n",
            "  1.29647478e-01  2.85916179e-01 -2.28976890e-01 -8.14145207e-02\n",
            " -3.03468794e-01  5.07878549e-02  1.65398538e-01 -4.95082326e-02\n",
            " -1.08838700e-01 -3.71468633e-01  2.15699807e-01  9.69152898e-02\n",
            " -3.47639114e-04 -2.06060886e-01 -1.70376748e-01 -2.89652377e-01\n",
            " -8.12670141e-02 -4.82628733e-01 -2.26929486e-01  1.80951193e-01\n",
            "  9.56569612e-02 -8.05877969e-02  4.64318246e-02 -4.05067317e-02\n",
            "  1.15812026e-01  8.85283854e-03  3.01076919e-01 -3.29877198e-01\n",
            " -3.16049546e-01  8.53261352e-02 -1.59877941e-01  2.98589796e-01\n",
            "  2.84889489e-01  8.88897479e-02 -1.70206234e-01 -2.67423410e-03\n",
            " -2.03388989e-01 -2.80444371e-03 -2.64619887e-02  1.58911988e-01\n",
            " -2.52501041e-01  5.15655041e-01  5.02097756e-02  3.06641996e-01\n",
            " -4.45440590e-01  4.13425118e-01 -6.62983730e-02 -1.07218884e-01\n",
            "  1.00165054e-01  3.75638492e-02  6.06526546e-02 -7.70552158e-02\n",
            " -2.18660459e-01  2.09687115e-03 -2.61554774e-02  1.41561776e-01\n",
            " -3.89294714e-01 -1.19281076e-01 -3.12551916e-01  1.13565050e-01\n",
            " -1.23397797e-01  3.38619426e-02 -7.69068971e-02  2.93512404e-01\n",
            "  4.40765530e-01  8.43869299e-02  3.77341747e-01  2.54733443e-01\n",
            " -8.84977803e-02  2.99313247e-01  3.72745037e-01  1.23946026e-01\n",
            "  4.76381779e-01 -3.10976475e-01 -1.06564842e-01 -2.73665022e-02]\n"
          ]
        }
      ]
    },
    {
      "cell_type": "code",
      "source": [
        "odd_word = model.wv.doesnt_match(['cat', 'dog', 'bird', 'car'])\n",
        "print(odd_word)"
      ],
      "metadata": {
        "colab": {
          "base_uri": "https://localhost:8080/"
        },
        "id": "h-49P6a5PRzL",
        "outputId": "6a16d51f-164b-49d7-a58d-c0447dfaf99f"
      },
      "execution_count": null,
      "outputs": [
        {
          "output_type": "stream",
          "name": "stdout",
          "text": [
            "bird\n"
          ]
        }
      ]
    },
    {
      "cell_type": "code",
      "source": [
        "similarity = model.wv.similarity('dog', 'cat')\n",
        "print(similarity)"
      ],
      "metadata": {
        "colab": {
          "base_uri": "https://localhost:8080/"
        },
        "id": "bAghrtqlPYrk",
        "outputId": "5e4c64cb-4a1f-4c5e-c9a0-8855bb1a9a9f"
      },
      "execution_count": null,
      "outputs": [
        {
          "output_type": "stream",
          "name": "stdout",
          "text": [
            "0.997794\n"
          ]
        }
      ]
    },
    {
      "cell_type": "markdown",
      "source": [
        "### Doc2Vec"
      ],
      "metadata": {
        "id": "1eqimifHLxGm"
      }
    },
    {
      "cell_type": "code",
      "source": [
        "from gensim.models.doc2vec import Doc2Vec, TaggedDocument"
      ],
      "metadata": {
        "id": "BPHcskPQLwPL"
      },
      "execution_count": null,
      "outputs": []
    },
    {
      "cell_type": "code",
      "source": [
        "data = [TaggedDocument(words=doc.split(), tags=[str(i)]) for i, doc in enumerate(all_tweets_list)]\n",
        "print(data)"
      ],
      "metadata": {
        "id": "q53_X5lFL2f5"
      },
      "execution_count": null,
      "outputs": []
    },
    {
      "cell_type": "code",
      "source": [
        "doc2vec_model = Doc2Vec(vector_size=100, min_count=1, window = 5 , epochs=100)\n",
        "doc2vec_model.build_vocab(data)\n",
        "doc2vec_model.train(data, total_examples=doc2vec_model.corpus_count, epochs=doc2vec_model.epochs)\n",
        "\n",
        "print(doc2vec_model.dv[0])"
      ],
      "metadata": {
        "colab": {
          "base_uri": "https://localhost:8080/"
        },
        "id": "b75cxuB6O5dv",
        "outputId": "a38355bd-de99-4f8b-d7a5-802c6c4e488b"
      },
      "execution_count": null,
      "outputs": [
        {
          "output_type": "stream",
          "name": "stdout",
          "text": [
            "[ 0.04162245  0.10107917 -0.09894713 -0.05368514 -0.22084011 -0.24667451\n",
            "  0.03334522  0.30934632 -0.22494757 -0.09573936 -0.14955841 -0.09442414\n",
            "  0.09238938  0.12762445 -0.04293877  0.20335643  0.09912744 -0.17107375\n",
            "  0.05578518 -0.10619625 -0.10621992 -0.10885697  0.19561471 -0.17387989\n",
            "  0.15389775 -0.06177284 -0.06480754 -0.07363826 -0.14461336 -0.05043816\n",
            "  0.18775688 -0.11362904 -0.03710258 -0.03027842 -0.03217954  0.02931651\n",
            "  0.00879434 -0.02546221  0.03910486 -0.23784481 -0.07111073 -0.11839125\n",
            " -0.02072134  0.09244553  0.15141307  0.03780742  0.0199475  -0.060619\n",
            " -0.2512871   0.07115277  0.00899155  0.01423136 -0.13676225 -0.04769238\n",
            " -0.0562659   0.21688135  0.03593531  0.12681332 -0.07332046 -0.17899752\n",
            "  0.00583412  0.05890452 -0.02811306  0.14236824 -0.177869    0.13336512\n",
            "  0.0644724   0.12205787 -0.04484673  0.03183614 -0.09727595 -0.06667811\n",
            "  0.05699568  0.1331294   0.10802007  0.04404162 -0.06361527 -0.05988013\n",
            "  0.08563738  0.03048566  0.16255635 -0.07601739  0.06075468  0.12343986\n",
            "  0.17384362  0.010873   -0.09086628 -0.10877191  0.25053903  0.13119966\n",
            "  0.08340569  0.07121348 -0.05271468  0.05328976  0.12112586  0.05312316\n",
            "  0.00463564 -0.09497992  0.05394632 -0.03328739]\n"
          ]
        }
      ]
    },
    {
      "cell_type": "code",
      "source": [
        "print(doc2vec_model.dv[1])"
      ],
      "metadata": {
        "colab": {
          "base_uri": "https://localhost:8080/"
        },
        "id": "0v3KZKhOQQjD",
        "outputId": "03aec097-74d8-4a81-eb98-c05a590406e5"
      },
      "execution_count": null,
      "outputs": [
        {
          "output_type": "stream",
          "name": "stdout",
          "text": [
            "[-0.2092124   0.16575497 -0.01674061 -0.48325223  0.00997429 -0.36844993\n",
            "  0.06627592  0.53941303  0.40061492 -0.08376036 -0.2772543  -0.22321807\n",
            " -0.5937112  -0.1251991  -0.37846237  0.2842368   0.18160468 -0.17975365\n",
            " -0.33556724 -0.22640443  0.5162448  -0.11728083  0.38422424  0.720878\n",
            " -0.3193815   0.85932463 -0.19660729 -0.17953125  0.03965228  0.01700021\n",
            "  0.22307521  0.28719547  0.02543286 -0.05764745 -0.19202304 -0.08252893\n",
            " -0.09228895  0.16299509 -0.2983698  -0.62888074  0.90600973 -0.19215542\n",
            " -0.7762308   0.08601705  0.06951971 -0.54790527  0.6036075  -0.01785918\n",
            "  0.87787807  0.16997042  0.2842298  -0.37572712  0.52333564  0.1501871\n",
            " -0.3549824   0.2778198   0.28315002  0.08876149 -0.10073744  0.21555458\n",
            "  0.24939966 -0.18849845  0.478119    0.34558353  0.09173282  0.40971324\n",
            "  0.03757856  0.46719623  0.01023681  0.33118784 -0.19352122 -0.00704091\n",
            "  0.5357328   0.07256322 -0.08909417 -0.28902224 -0.4697316   0.20264968\n",
            " -0.18107729 -0.199329    0.01257149 -0.0918339   0.08067733 -0.36698568\n",
            " -0.41689566 -0.05575236  0.37010914  0.10953361  0.16715193 -0.2586091\n",
            "  0.3058389   0.30534104  0.3476553   0.3921616   0.32424092 -0.39515096\n",
            "  0.17550598  0.19020157 -0.34468293  0.2742642 ]\n"
          ]
        }
      ]
    },
    {
      "cell_type": "markdown",
      "source": [
        "## Logistic Regression"
      ],
      "metadata": {
        "id": "YvYwF8dSZTcm"
      }
    },
    {
      "cell_type": "code",
      "source": [
        "import numpy as np\n",
        "from sklearn.model_selection import train_test_split\n",
        "\"\"\"\n",
        "tweets empty after preprocessing\n",
        "985\n",
        "1136\n",
        "2703\n",
        "254\n",
        "\"\"\"\n",
        "\n",
        "\n",
        "doc_vectors = [doc2vec_model.dv[i] for i in range(9996)]\n",
        "\n",
        "doc_labels = [1 if i < 4997 else 0 for i in range(9996)]\n",
        "\n",
        "\n",
        "X_train, X_test, y_train, y_test = train_test_split(doc_vectors, doc_labels, test_size=0.2, random_state=42)"
      ],
      "metadata": {
        "id": "LlA40S1HWG3g"
      },
      "execution_count": null,
      "outputs": []
    },
    {
      "cell_type": "code",
      "source": [
        "from sklearn.linear_model import LogisticRegression\n",
        "from sklearn.metrics import accuracy_score\n",
        "\n",
        "classifier = LogisticRegression()\n",
        "classifier.fit(X_train, y_train)\n",
        "\n",
        "y_pred = classifier.predict(X_test)\n",
        "\n",
        "accuracy = accuracy_score(y_test, y_pred)\n",
        "print(f\"Accuracy: {accuracy}\")"
      ],
      "metadata": {
        "colab": {
          "base_uri": "https://localhost:8080/"
        },
        "id": "4LIY4qDAZFhI",
        "outputId": "59c2ee8f-e6f8-43b7-a06a-239263f03c0d"
      },
      "execution_count": null,
      "outputs": [
        {
          "output_type": "stream",
          "name": "stdout",
          "text": [
            "Accuracy: 0.7805\n"
          ]
        }
      ]
    },
    {
      "cell_type": "markdown",
      "source": [
        "## cosine_similarity"
      ],
      "metadata": {
        "id": "RSp-X-o1ZYF5"
      }
    },
    {
      "cell_type": "code",
      "source": [
        "from sklearn.metrics.pairwise import cosine_similarity\n",
        "import numpy as np\n",
        "\n",
        "doc_vectors = [doc2vec_model.dv[i] for i in range(9996)]\n",
        "\n",
        "query_vector = doc2vec_model.dv[0]\n",
        "\n",
        "similarities = cosine_similarity([query_vector], doc_vectors)[0]\n",
        "\n",
        "ranked_docs = np.argsort(-similarities)\n",
        "\n",
        "print(ranked_docs)"
      ],
      "metadata": {
        "colab": {
          "base_uri": "https://localhost:8080/"
        },
        "id": "DpkZZesdZQ4q",
        "outputId": "d315f0e6-2841-4859-b1b5-4b90d5c827ca"
      },
      "execution_count": null,
      "outputs": [
        {
          "output_type": "stream",
          "name": "stdout",
          "text": [
            "[   0  105   51 ... 5976 2037   82]\n"
          ]
        }
      ]
    },
    {
      "cell_type": "markdown",
      "source": [
        "# dfs"
      ],
      "metadata": {
        "id": "c1h8If3rcmyF"
      }
    },
    {
      "cell_type": "code",
      "source": [
        "\"\"\"\n",
        "tf_idf_df\n",
        "data\n",
        "df\n",
        "\"\"\""
      ],
      "metadata": {
        "id": "AD0hJg8Ncmd9"
      },
      "execution_count": null,
      "outputs": []
    },
    {
      "cell_type": "markdown",
      "source": [
        "# Data Preprocessing"
      ],
      "metadata": {
        "id": "rghCzOLydveb"
      }
    },
    {
      "cell_type": "code",
      "source": [
        "import torch\n",
        "from torch.utils.data import random_split, TensorDataset, DataLoader"
      ],
      "metadata": {
        "id": "kI03EhKuc4_7"
      },
      "execution_count": null,
      "outputs": []
    },
    {
      "cell_type": "code",
      "source": [
        "feature_tensor = torch.tensor(tf_idf_df.values, dtype=torch.float32)\n",
        "label_tensor = torch.tensor(doc_labels, dtype=torch.float32)\n",
        "\n",
        "dataset = TensorDataset(feature_tensor, label_tensor)\n",
        "train_size = int(0.8 * len(dataset))\n",
        "test_size = len(dataset) - train_size\n",
        "train_dataset, test_dataset = random_split(dataset, [train_size, test_size])\n",
        "\n",
        "batch_size = 32\n",
        "train_loader = DataLoader(train_dataset, batch_size=batch_size, shuffle=True)\n",
        "test_loader = DataLoader(test_dataset, batch_size=batch_size, shuffle=False)"
      ],
      "metadata": {
        "id": "V9_NZaDnk9EY"
      },
      "execution_count": null,
      "outputs": []
    },
    {
      "cell_type": "code",
      "source": [
        "tf_idf_df"
      ],
      "metadata": {
        "colab": {
          "base_uri": "https://localhost:8080/",
          "height": 1000
        },
        "id": "oRLUTuQtloGv",
        "outputId": "e3390af9-4fb1-4023-b987-00307f1147be"
      },
      "execution_count": null,
      "outputs": [
        {
          "output_type": "execute_result",
          "data": {
            "text/plain": [
              "                                                     aa  aaaaaaaaaaa  \\\n",
              "top engage member community week Happy              0.0          0.0   \n",
              "hey jam odd Skeptical please call contact centr...  0.0          0.0   \n",
              "listen last night Happy bleed amaze track scotland  0.0          0.0   \n",
              "congrats Happy                                      0.0          0.0   \n",
              "yeaaaah yippppy accnt verify rqst succeed get b...  0.0          0.0   \n",
              "...                                                 ...          ...   \n",
              "want change avi usanele Frown                       0.0          0.0   \n",
              "puppy break foot Frown                              0.0          0.0   \n",
              "jaebum baby picture Frown                           0.0          0.0   \n",
              "mr ahmad maslan cook Frown http                     0.0          0.0   \n",
              "hull supporter expect misserable week Frown         0.0          0.0   \n",
              "\n",
              "                                                    aaaaaaaaaaaaa  \\\n",
              "top engage member community week Happy                        0.0   \n",
              "hey jam odd Skeptical please call contact centr...            0.0   \n",
              "listen last night Happy bleed amaze track scotland            0.0   \n",
              "congrats Happy                                                0.0   \n",
              "yeaaaah yippppy accnt verify rqst succeed get b...            0.0   \n",
              "...                                                           ...   \n",
              "want change avi usanele Frown                                 0.0   \n",
              "puppy break foot Frown                                        0.0   \n",
              "jaebum baby picture Frown                                     0.0   \n",
              "mr ahmad maslan cook Frown http                               0.0   \n",
              "hull supporter expect misserable week Frown                   0.0   \n",
              "\n",
              "                                                    aaaaaaaaaaaah  aaaaaand  \\\n",
              "top engage member community week Happy                        0.0       0.0   \n",
              "hey jam odd Skeptical please call contact centr...            0.0       0.0   \n",
              "listen last night Happy bleed amaze track scotland            0.0       0.0   \n",
              "congrats Happy                                                0.0       0.0   \n",
              "yeaaaah yippppy accnt verify rqst succeed get b...            0.0       0.0   \n",
              "...                                                           ...       ...   \n",
              "want change avi usanele Frown                                 0.0       0.0   \n",
              "puppy break foot Frown                                        0.0       0.0   \n",
              "jaebum baby picture Frown                                     0.0       0.0   \n",
              "mr ahmad maslan cook Frown http                               0.0       0.0   \n",
              "hull supporter expect misserable week Frown                   0.0       0.0   \n",
              "\n",
              "                                                    aaaaages  aaaaahhhhhhhh  \\\n",
              "top engage member community week Happy                   0.0            0.0   \n",
              "hey jam odd Skeptical please call contact centr...       0.0            0.0   \n",
              "listen last night Happy bleed amaze track scotland       0.0            0.0   \n",
              "congrats Happy                                           0.0            0.0   \n",
              "yeaaaah yippppy accnt verify rqst succeed get b...       0.0            0.0   \n",
              "...                                                      ...            ...   \n",
              "want change avi usanele Frown                            0.0            0.0   \n",
              "puppy break foot Frown                                   0.0            0.0   \n",
              "jaebum baby picture Frown                                0.0            0.0   \n",
              "mr ahmad maslan cook Frown http                          0.0            0.0   \n",
              "hull supporter expect misserable week Frown              0.0            0.0   \n",
              "\n",
              "                                                    aaaahh  aaaahhh  aaahhh  \\\n",
              "top engage member community week Happy                 0.0      0.0     0.0   \n",
              "hey jam odd Skeptical please call contact centr...     0.0      0.0     0.0   \n",
              "listen last night Happy bleed amaze track scotland     0.0      0.0     0.0   \n",
              "congrats Happy                                         0.0      0.0     0.0   \n",
              "yeaaaah yippppy accnt verify rqst succeed get b...     0.0      0.0     0.0   \n",
              "...                                                    ...      ...     ...   \n",
              "want change avi usanele Frown                          0.0      0.0     0.0   \n",
              "puppy break foot Frown                                 0.0      0.0     0.0   \n",
              "jaebum baby picture Frown                              0.0      0.0     0.0   \n",
              "mr ahmad maslan cook Frown http                        0.0      0.0     0.0   \n",
              "hull supporter expect misserable week Frown            0.0      0.0     0.0   \n",
              "\n",
              "                                                    ...  للحياة  للعودة   एक  \\\n",
              "top engage member community week Happy              ...     0.0     0.0  0.0   \n",
              "hey jam odd Skeptical please call contact centr...  ...     0.0     0.0  0.0   \n",
              "listen last night Happy bleed amaze track scotland  ...     0.0     0.0  0.0   \n",
              "congrats Happy                                      ...     0.0     0.0  0.0   \n",
              "yeaaaah yippppy accnt verify rqst succeed get b...  ...     0.0     0.0  0.0   \n",
              "...                                                 ...     ...     ...  ...   \n",
              "want change avi usanele Frown                       ...     0.0     0.0  0.0   \n",
              "puppy break foot Frown                              ...     0.0     0.0  0.0   \n",
              "jaebum baby picture Frown                           ...     0.0     0.0  0.0   \n",
              "mr ahmad maslan cook Frown http                     ...     0.0     0.0  0.0   \n",
              "hull supporter expect misserable week Frown         ...     0.0     0.0  0.0   \n",
              "\n",
              "                                                     धख   फर   बर   හල  හවල  \\\n",
              "top engage member community week Happy              0.0  0.0  0.0  0.0  0.0   \n",
              "hey jam odd Skeptical please call contact centr...  0.0  0.0  0.0  0.0  0.0   \n",
              "listen last night Happy bleed amaze track scotland  0.0  0.0  0.0  0.0  0.0   \n",
              "congrats Happy                                      0.0  0.0  0.0  0.0  0.0   \n",
              "yeaaaah yippppy accnt verify rqst succeed get b...  0.0  0.0  0.0  0.0  0.0   \n",
              "...                                                 ...  ...  ...  ...  ...   \n",
              "want change avi usanele Frown                       0.0  0.0  0.0  0.0  0.0   \n",
              "puppy break foot Frown                              0.0  0.0  0.0  0.0  0.0   \n",
              "jaebum baby picture Frown                           0.0  0.0  0.0  0.0  0.0   \n",
              "mr ahmad maslan cook Frown http                     0.0  0.0  0.0  0.0  0.0   \n",
              "hull supporter expect misserable week Frown         0.0  0.0  0.0  0.0  0.0   \n",
              "\n",
              "                                                     ｍｅ  ｓｅｅ  \n",
              "top engage member community week Happy              0.0  0.0  \n",
              "hey jam odd Skeptical please call contact centr...  0.0  0.0  \n",
              "listen last night Happy bleed amaze track scotland  0.0  0.0  \n",
              "congrats Happy                                      0.0  0.0  \n",
              "yeaaaah yippppy accnt verify rqst succeed get b...  0.0  0.0  \n",
              "...                                                 ...  ...  \n",
              "want change avi usanele Frown                       0.0  0.0  \n",
              "puppy break foot Frown                              0.0  0.0  \n",
              "jaebum baby picture Frown                           0.0  0.0  \n",
              "mr ahmad maslan cook Frown http                     0.0  0.0  \n",
              "hull supporter expect misserable week Frown         0.0  0.0  \n",
              "\n",
              "[9996 rows x 9221 columns]"
            ],
            "text/html": [
              "\n",
              "  <div id=\"df-3d85b303-45a0-4e83-b7e7-e6d7a50e3a9a\" class=\"colab-df-container\">\n",
              "    <div>\n",
              "<style scoped>\n",
              "    .dataframe tbody tr th:only-of-type {\n",
              "        vertical-align: middle;\n",
              "    }\n",
              "\n",
              "    .dataframe tbody tr th {\n",
              "        vertical-align: top;\n",
              "    }\n",
              "\n",
              "    .dataframe thead th {\n",
              "        text-align: right;\n",
              "    }\n",
              "</style>\n",
              "<table border=\"1\" class=\"dataframe\">\n",
              "  <thead>\n",
              "    <tr style=\"text-align: right;\">\n",
              "      <th></th>\n",
              "      <th>aa</th>\n",
              "      <th>aaaaaaaaaaa</th>\n",
              "      <th>aaaaaaaaaaaaa</th>\n",
              "      <th>aaaaaaaaaaaah</th>\n",
              "      <th>aaaaaand</th>\n",
              "      <th>aaaaages</th>\n",
              "      <th>aaaaahhhhhhhh</th>\n",
              "      <th>aaaahh</th>\n",
              "      <th>aaaahhh</th>\n",
              "      <th>aaahhh</th>\n",
              "      <th>...</th>\n",
              "      <th>للحياة</th>\n",
              "      <th>للعودة</th>\n",
              "      <th>एक</th>\n",
              "      <th>धख</th>\n",
              "      <th>फर</th>\n",
              "      <th>बर</th>\n",
              "      <th>හල</th>\n",
              "      <th>හවල</th>\n",
              "      <th>ｍｅ</th>\n",
              "      <th>ｓｅｅ</th>\n",
              "    </tr>\n",
              "  </thead>\n",
              "  <tbody>\n",
              "    <tr>\n",
              "      <th>top engage member community week Happy</th>\n",
              "      <td>0.0</td>\n",
              "      <td>0.0</td>\n",
              "      <td>0.0</td>\n",
              "      <td>0.0</td>\n",
              "      <td>0.0</td>\n",
              "      <td>0.0</td>\n",
              "      <td>0.0</td>\n",
              "      <td>0.0</td>\n",
              "      <td>0.0</td>\n",
              "      <td>0.0</td>\n",
              "      <td>...</td>\n",
              "      <td>0.0</td>\n",
              "      <td>0.0</td>\n",
              "      <td>0.0</td>\n",
              "      <td>0.0</td>\n",
              "      <td>0.0</td>\n",
              "      <td>0.0</td>\n",
              "      <td>0.0</td>\n",
              "      <td>0.0</td>\n",
              "      <td>0.0</td>\n",
              "      <td>0.0</td>\n",
              "    </tr>\n",
              "    <tr>\n",
              "      <th>hey jam odd Skeptical please call contact centre able assist many thank</th>\n",
              "      <td>0.0</td>\n",
              "      <td>0.0</td>\n",
              "      <td>0.0</td>\n",
              "      <td>0.0</td>\n",
              "      <td>0.0</td>\n",
              "      <td>0.0</td>\n",
              "      <td>0.0</td>\n",
              "      <td>0.0</td>\n",
              "      <td>0.0</td>\n",
              "      <td>0.0</td>\n",
              "      <td>...</td>\n",
              "      <td>0.0</td>\n",
              "      <td>0.0</td>\n",
              "      <td>0.0</td>\n",
              "      <td>0.0</td>\n",
              "      <td>0.0</td>\n",
              "      <td>0.0</td>\n",
              "      <td>0.0</td>\n",
              "      <td>0.0</td>\n",
              "      <td>0.0</td>\n",
              "      <td>0.0</td>\n",
              "    </tr>\n",
              "    <tr>\n",
              "      <th>listen last night Happy bleed amaze track scotland</th>\n",
              "      <td>0.0</td>\n",
              "      <td>0.0</td>\n",
              "      <td>0.0</td>\n",
              "      <td>0.0</td>\n",
              "      <td>0.0</td>\n",
              "      <td>0.0</td>\n",
              "      <td>0.0</td>\n",
              "      <td>0.0</td>\n",
              "      <td>0.0</td>\n",
              "      <td>0.0</td>\n",
              "      <td>...</td>\n",
              "      <td>0.0</td>\n",
              "      <td>0.0</td>\n",
              "      <td>0.0</td>\n",
              "      <td>0.0</td>\n",
              "      <td>0.0</td>\n",
              "      <td>0.0</td>\n",
              "      <td>0.0</td>\n",
              "      <td>0.0</td>\n",
              "      <td>0.0</td>\n",
              "      <td>0.0</td>\n",
              "    </tr>\n",
              "    <tr>\n",
              "      <th>congrats Happy</th>\n",
              "      <td>0.0</td>\n",
              "      <td>0.0</td>\n",
              "      <td>0.0</td>\n",
              "      <td>0.0</td>\n",
              "      <td>0.0</td>\n",
              "      <td>0.0</td>\n",
              "      <td>0.0</td>\n",
              "      <td>0.0</td>\n",
              "      <td>0.0</td>\n",
              "      <td>0.0</td>\n",
              "      <td>...</td>\n",
              "      <td>0.0</td>\n",
              "      <td>0.0</td>\n",
              "      <td>0.0</td>\n",
              "      <td>0.0</td>\n",
              "      <td>0.0</td>\n",
              "      <td>0.0</td>\n",
              "      <td>0.0</td>\n",
              "      <td>0.0</td>\n",
              "      <td>0.0</td>\n",
              "      <td>0.0</td>\n",
              "    </tr>\n",
              "    <tr>\n",
              "      <th>yeaaaah yippppy accnt verify rqst succeed get blue tick mark fb profile Happy day</th>\n",
              "      <td>0.0</td>\n",
              "      <td>0.0</td>\n",
              "      <td>0.0</td>\n",
              "      <td>0.0</td>\n",
              "      <td>0.0</td>\n",
              "      <td>0.0</td>\n",
              "      <td>0.0</td>\n",
              "      <td>0.0</td>\n",
              "      <td>0.0</td>\n",
              "      <td>0.0</td>\n",
              "      <td>...</td>\n",
              "      <td>0.0</td>\n",
              "      <td>0.0</td>\n",
              "      <td>0.0</td>\n",
              "      <td>0.0</td>\n",
              "      <td>0.0</td>\n",
              "      <td>0.0</td>\n",
              "      <td>0.0</td>\n",
              "      <td>0.0</td>\n",
              "      <td>0.0</td>\n",
              "      <td>0.0</td>\n",
              "    </tr>\n",
              "    <tr>\n",
              "      <th>...</th>\n",
              "      <td>...</td>\n",
              "      <td>...</td>\n",
              "      <td>...</td>\n",
              "      <td>...</td>\n",
              "      <td>...</td>\n",
              "      <td>...</td>\n",
              "      <td>...</td>\n",
              "      <td>...</td>\n",
              "      <td>...</td>\n",
              "      <td>...</td>\n",
              "      <td>...</td>\n",
              "      <td>...</td>\n",
              "      <td>...</td>\n",
              "      <td>...</td>\n",
              "      <td>...</td>\n",
              "      <td>...</td>\n",
              "      <td>...</td>\n",
              "      <td>...</td>\n",
              "      <td>...</td>\n",
              "      <td>...</td>\n",
              "      <td>...</td>\n",
              "    </tr>\n",
              "    <tr>\n",
              "      <th>want change avi usanele Frown</th>\n",
              "      <td>0.0</td>\n",
              "      <td>0.0</td>\n",
              "      <td>0.0</td>\n",
              "      <td>0.0</td>\n",
              "      <td>0.0</td>\n",
              "      <td>0.0</td>\n",
              "      <td>0.0</td>\n",
              "      <td>0.0</td>\n",
              "      <td>0.0</td>\n",
              "      <td>0.0</td>\n",
              "      <td>...</td>\n",
              "      <td>0.0</td>\n",
              "      <td>0.0</td>\n",
              "      <td>0.0</td>\n",
              "      <td>0.0</td>\n",
              "      <td>0.0</td>\n",
              "      <td>0.0</td>\n",
              "      <td>0.0</td>\n",
              "      <td>0.0</td>\n",
              "      <td>0.0</td>\n",
              "      <td>0.0</td>\n",
              "    </tr>\n",
              "    <tr>\n",
              "      <th>puppy break foot Frown</th>\n",
              "      <td>0.0</td>\n",
              "      <td>0.0</td>\n",
              "      <td>0.0</td>\n",
              "      <td>0.0</td>\n",
              "      <td>0.0</td>\n",
              "      <td>0.0</td>\n",
              "      <td>0.0</td>\n",
              "      <td>0.0</td>\n",
              "      <td>0.0</td>\n",
              "      <td>0.0</td>\n",
              "      <td>...</td>\n",
              "      <td>0.0</td>\n",
              "      <td>0.0</td>\n",
              "      <td>0.0</td>\n",
              "      <td>0.0</td>\n",
              "      <td>0.0</td>\n",
              "      <td>0.0</td>\n",
              "      <td>0.0</td>\n",
              "      <td>0.0</td>\n",
              "      <td>0.0</td>\n",
              "      <td>0.0</td>\n",
              "    </tr>\n",
              "    <tr>\n",
              "      <th>jaebum baby picture Frown</th>\n",
              "      <td>0.0</td>\n",
              "      <td>0.0</td>\n",
              "      <td>0.0</td>\n",
              "      <td>0.0</td>\n",
              "      <td>0.0</td>\n",
              "      <td>0.0</td>\n",
              "      <td>0.0</td>\n",
              "      <td>0.0</td>\n",
              "      <td>0.0</td>\n",
              "      <td>0.0</td>\n",
              "      <td>...</td>\n",
              "      <td>0.0</td>\n",
              "      <td>0.0</td>\n",
              "      <td>0.0</td>\n",
              "      <td>0.0</td>\n",
              "      <td>0.0</td>\n",
              "      <td>0.0</td>\n",
              "      <td>0.0</td>\n",
              "      <td>0.0</td>\n",
              "      <td>0.0</td>\n",
              "      <td>0.0</td>\n",
              "    </tr>\n",
              "    <tr>\n",
              "      <th>mr ahmad maslan cook Frown http</th>\n",
              "      <td>0.0</td>\n",
              "      <td>0.0</td>\n",
              "      <td>0.0</td>\n",
              "      <td>0.0</td>\n",
              "      <td>0.0</td>\n",
              "      <td>0.0</td>\n",
              "      <td>0.0</td>\n",
              "      <td>0.0</td>\n",
              "      <td>0.0</td>\n",
              "      <td>0.0</td>\n",
              "      <td>...</td>\n",
              "      <td>0.0</td>\n",
              "      <td>0.0</td>\n",
              "      <td>0.0</td>\n",
              "      <td>0.0</td>\n",
              "      <td>0.0</td>\n",
              "      <td>0.0</td>\n",
              "      <td>0.0</td>\n",
              "      <td>0.0</td>\n",
              "      <td>0.0</td>\n",
              "      <td>0.0</td>\n",
              "    </tr>\n",
              "    <tr>\n",
              "      <th>hull supporter expect misserable week Frown</th>\n",
              "      <td>0.0</td>\n",
              "      <td>0.0</td>\n",
              "      <td>0.0</td>\n",
              "      <td>0.0</td>\n",
              "      <td>0.0</td>\n",
              "      <td>0.0</td>\n",
              "      <td>0.0</td>\n",
              "      <td>0.0</td>\n",
              "      <td>0.0</td>\n",
              "      <td>0.0</td>\n",
              "      <td>...</td>\n",
              "      <td>0.0</td>\n",
              "      <td>0.0</td>\n",
              "      <td>0.0</td>\n",
              "      <td>0.0</td>\n",
              "      <td>0.0</td>\n",
              "      <td>0.0</td>\n",
              "      <td>0.0</td>\n",
              "      <td>0.0</td>\n",
              "      <td>0.0</td>\n",
              "      <td>0.0</td>\n",
              "    </tr>\n",
              "  </tbody>\n",
              "</table>\n",
              "<p>9996 rows × 9221 columns</p>\n",
              "</div>\n",
              "    <div class=\"colab-df-buttons\">\n",
              "\n",
              "  <div class=\"colab-df-container\">\n",
              "    <button class=\"colab-df-convert\" onclick=\"convertToInteractive('df-3d85b303-45a0-4e83-b7e7-e6d7a50e3a9a')\"\n",
              "            title=\"Convert this dataframe to an interactive table.\"\n",
              "            style=\"display:none;\">\n",
              "\n",
              "  <svg xmlns=\"http://www.w3.org/2000/svg\" height=\"24px\" viewBox=\"0 -960 960 960\">\n",
              "    <path d=\"M120-120v-720h720v720H120Zm60-500h600v-160H180v160Zm220 220h160v-160H400v160Zm0 220h160v-160H400v160ZM180-400h160v-160H180v160Zm440 0h160v-160H620v160ZM180-180h160v-160H180v160Zm440 0h160v-160H620v160Z\"/>\n",
              "  </svg>\n",
              "    </button>\n",
              "\n",
              "  <style>\n",
              "    .colab-df-container {\n",
              "      display:flex;\n",
              "      gap: 12px;\n",
              "    }\n",
              "\n",
              "    .colab-df-convert {\n",
              "      background-color: #E8F0FE;\n",
              "      border: none;\n",
              "      border-radius: 50%;\n",
              "      cursor: pointer;\n",
              "      display: none;\n",
              "      fill: #1967D2;\n",
              "      height: 32px;\n",
              "      padding: 0 0 0 0;\n",
              "      width: 32px;\n",
              "    }\n",
              "\n",
              "    .colab-df-convert:hover {\n",
              "      background-color: #E2EBFA;\n",
              "      box-shadow: 0px 1px 2px rgba(60, 64, 67, 0.3), 0px 1px 3px 1px rgba(60, 64, 67, 0.15);\n",
              "      fill: #174EA6;\n",
              "    }\n",
              "\n",
              "    .colab-df-buttons div {\n",
              "      margin-bottom: 4px;\n",
              "    }\n",
              "\n",
              "    [theme=dark] .colab-df-convert {\n",
              "      background-color: #3B4455;\n",
              "      fill: #D2E3FC;\n",
              "    }\n",
              "\n",
              "    [theme=dark] .colab-df-convert:hover {\n",
              "      background-color: #434B5C;\n",
              "      box-shadow: 0px 1px 3px 1px rgba(0, 0, 0, 0.15);\n",
              "      filter: drop-shadow(0px 1px 2px rgba(0, 0, 0, 0.3));\n",
              "      fill: #FFFFFF;\n",
              "    }\n",
              "  </style>\n",
              "\n",
              "    <script>\n",
              "      const buttonEl =\n",
              "        document.querySelector('#df-3d85b303-45a0-4e83-b7e7-e6d7a50e3a9a button.colab-df-convert');\n",
              "      buttonEl.style.display =\n",
              "        google.colab.kernel.accessAllowed ? 'block' : 'none';\n",
              "\n",
              "      async function convertToInteractive(key) {\n",
              "        const element = document.querySelector('#df-3d85b303-45a0-4e83-b7e7-e6d7a50e3a9a');\n",
              "        const dataTable =\n",
              "          await google.colab.kernel.invokeFunction('convertToInteractive',\n",
              "                                                    [key], {});\n",
              "        if (!dataTable) return;\n",
              "\n",
              "        const docLinkHtml = 'Like what you see? Visit the ' +\n",
              "          '<a target=\"_blank\" href=https://colab.research.google.com/notebooks/data_table.ipynb>data table notebook</a>'\n",
              "          + ' to learn more about interactive tables.';\n",
              "        element.innerHTML = '';\n",
              "        dataTable['output_type'] = 'display_data';\n",
              "        await google.colab.output.renderOutput(dataTable, element);\n",
              "        const docLink = document.createElement('div');\n",
              "        docLink.innerHTML = docLinkHtml;\n",
              "        element.appendChild(docLink);\n",
              "      }\n",
              "    </script>\n",
              "  </div>\n",
              "\n",
              "\n",
              "<div id=\"df-938a2227-db8c-4834-be9b-61cdeb293f3b\">\n",
              "  <button class=\"colab-df-quickchart\" onclick=\"quickchart('df-938a2227-db8c-4834-be9b-61cdeb293f3b')\"\n",
              "            title=\"Suggest charts\"\n",
              "            style=\"display:none;\">\n",
              "\n",
              "<svg xmlns=\"http://www.w3.org/2000/svg\" height=\"24px\"viewBox=\"0 0 24 24\"\n",
              "     width=\"24px\">\n",
              "    <g>\n",
              "        <path d=\"M19 3H5c-1.1 0-2 .9-2 2v14c0 1.1.9 2 2 2h14c1.1 0 2-.9 2-2V5c0-1.1-.9-2-2-2zM9 17H7v-7h2v7zm4 0h-2V7h2v10zm4 0h-2v-4h2v4z\"/>\n",
              "    </g>\n",
              "</svg>\n",
              "  </button>\n",
              "\n",
              "<style>\n",
              "  .colab-df-quickchart {\n",
              "      --bg-color: #E8F0FE;\n",
              "      --fill-color: #1967D2;\n",
              "      --hover-bg-color: #E2EBFA;\n",
              "      --hover-fill-color: #174EA6;\n",
              "      --disabled-fill-color: #AAA;\n",
              "      --disabled-bg-color: #DDD;\n",
              "  }\n",
              "\n",
              "  [theme=dark] .colab-df-quickchart {\n",
              "      --bg-color: #3B4455;\n",
              "      --fill-color: #D2E3FC;\n",
              "      --hover-bg-color: #434B5C;\n",
              "      --hover-fill-color: #FFFFFF;\n",
              "      --disabled-bg-color: #3B4455;\n",
              "      --disabled-fill-color: #666;\n",
              "  }\n",
              "\n",
              "  .colab-df-quickchart {\n",
              "    background-color: var(--bg-color);\n",
              "    border: none;\n",
              "    border-radius: 50%;\n",
              "    cursor: pointer;\n",
              "    display: none;\n",
              "    fill: var(--fill-color);\n",
              "    height: 32px;\n",
              "    padding: 0;\n",
              "    width: 32px;\n",
              "  }\n",
              "\n",
              "  .colab-df-quickchart:hover {\n",
              "    background-color: var(--hover-bg-color);\n",
              "    box-shadow: 0 1px 2px rgba(60, 64, 67, 0.3), 0 1px 3px 1px rgba(60, 64, 67, 0.15);\n",
              "    fill: var(--button-hover-fill-color);\n",
              "  }\n",
              "\n",
              "  .colab-df-quickchart-complete:disabled,\n",
              "  .colab-df-quickchart-complete:disabled:hover {\n",
              "    background-color: var(--disabled-bg-color);\n",
              "    fill: var(--disabled-fill-color);\n",
              "    box-shadow: none;\n",
              "  }\n",
              "\n",
              "  .colab-df-spinner {\n",
              "    border: 2px solid var(--fill-color);\n",
              "    border-color: transparent;\n",
              "    border-bottom-color: var(--fill-color);\n",
              "    animation:\n",
              "      spin 1s steps(1) infinite;\n",
              "  }\n",
              "\n",
              "  @keyframes spin {\n",
              "    0% {\n",
              "      border-color: transparent;\n",
              "      border-bottom-color: var(--fill-color);\n",
              "      border-left-color: var(--fill-color);\n",
              "    }\n",
              "    20% {\n",
              "      border-color: transparent;\n",
              "      border-left-color: var(--fill-color);\n",
              "      border-top-color: var(--fill-color);\n",
              "    }\n",
              "    30% {\n",
              "      border-color: transparent;\n",
              "      border-left-color: var(--fill-color);\n",
              "      border-top-color: var(--fill-color);\n",
              "      border-right-color: var(--fill-color);\n",
              "    }\n",
              "    40% {\n",
              "      border-color: transparent;\n",
              "      border-right-color: var(--fill-color);\n",
              "      border-top-color: var(--fill-color);\n",
              "    }\n",
              "    60% {\n",
              "      border-color: transparent;\n",
              "      border-right-color: var(--fill-color);\n",
              "    }\n",
              "    80% {\n",
              "      border-color: transparent;\n",
              "      border-right-color: var(--fill-color);\n",
              "      border-bottom-color: var(--fill-color);\n",
              "    }\n",
              "    90% {\n",
              "      border-color: transparent;\n",
              "      border-bottom-color: var(--fill-color);\n",
              "    }\n",
              "  }\n",
              "</style>\n",
              "\n",
              "  <script>\n",
              "    async function quickchart(key) {\n",
              "      const quickchartButtonEl =\n",
              "        document.querySelector('#' + key + ' button');\n",
              "      quickchartButtonEl.disabled = true;  // To prevent multiple clicks.\n",
              "      quickchartButtonEl.classList.add('colab-df-spinner');\n",
              "      try {\n",
              "        const charts = await google.colab.kernel.invokeFunction(\n",
              "            'suggestCharts', [key], {});\n",
              "      } catch (error) {\n",
              "        console.error('Error during call to suggestCharts:', error);\n",
              "      }\n",
              "      quickchartButtonEl.classList.remove('colab-df-spinner');\n",
              "      quickchartButtonEl.classList.add('colab-df-quickchart-complete');\n",
              "    }\n",
              "    (() => {\n",
              "      let quickchartButtonEl =\n",
              "        document.querySelector('#df-938a2227-db8c-4834-be9b-61cdeb293f3b button');\n",
              "      quickchartButtonEl.style.display =\n",
              "        google.colab.kernel.accessAllowed ? 'block' : 'none';\n",
              "    })();\n",
              "  </script>\n",
              "</div>\n",
              "\n",
              "  <div id=\"id_3aa9991d-bacf-4413-bd03-5e9ee1948822\">\n",
              "    <style>\n",
              "      .colab-df-generate {\n",
              "        background-color: #E8F0FE;\n",
              "        border: none;\n",
              "        border-radius: 50%;\n",
              "        cursor: pointer;\n",
              "        display: none;\n",
              "        fill: #1967D2;\n",
              "        height: 32px;\n",
              "        padding: 0 0 0 0;\n",
              "        width: 32px;\n",
              "      }\n",
              "\n",
              "      .colab-df-generate:hover {\n",
              "        background-color: #E2EBFA;\n",
              "        box-shadow: 0px 1px 2px rgba(60, 64, 67, 0.3), 0px 1px 3px 1px rgba(60, 64, 67, 0.15);\n",
              "        fill: #174EA6;\n",
              "      }\n",
              "\n",
              "      [theme=dark] .colab-df-generate {\n",
              "        background-color: #3B4455;\n",
              "        fill: #D2E3FC;\n",
              "      }\n",
              "\n",
              "      [theme=dark] .colab-df-generate:hover {\n",
              "        background-color: #434B5C;\n",
              "        box-shadow: 0px 1px 3px 1px rgba(0, 0, 0, 0.15);\n",
              "        filter: drop-shadow(0px 1px 2px rgba(0, 0, 0, 0.3));\n",
              "        fill: #FFFFFF;\n",
              "      }\n",
              "    </style>\n",
              "    <button class=\"colab-df-generate\" onclick=\"generateWithVariable('tf_idf_df')\"\n",
              "            title=\"Generate code using this dataframe.\"\n",
              "            style=\"display:none;\">\n",
              "\n",
              "  <svg xmlns=\"http://www.w3.org/2000/svg\" height=\"24px\"viewBox=\"0 0 24 24\"\n",
              "       width=\"24px\">\n",
              "    <path d=\"M7,19H8.4L18.45,9,17,7.55,7,17.6ZM5,21V16.75L18.45,3.32a2,2,0,0,1,2.83,0l1.4,1.43a1.91,1.91,0,0,1,.58,1.4,1.91,1.91,0,0,1-.58,1.4L9.25,21ZM18.45,9,17,7.55Zm-12,3A5.31,5.31,0,0,0,4.9,8.1,5.31,5.31,0,0,0,1,6.5,5.31,5.31,0,0,0,4.9,4.9,5.31,5.31,0,0,0,6.5,1,5.31,5.31,0,0,0,8.1,4.9,5.31,5.31,0,0,0,12,6.5,5.46,5.46,0,0,0,6.5,12Z\"/>\n",
              "  </svg>\n",
              "    </button>\n",
              "    <script>\n",
              "      (() => {\n",
              "      const buttonEl =\n",
              "        document.querySelector('#id_3aa9991d-bacf-4413-bd03-5e9ee1948822 button.colab-df-generate');\n",
              "      buttonEl.style.display =\n",
              "        google.colab.kernel.accessAllowed ? 'block' : 'none';\n",
              "\n",
              "      buttonEl.onclick = () => {\n",
              "        google.colab.notebook.generateWithVariable('tf_idf_df');\n",
              "      }\n",
              "      })();\n",
              "    </script>\n",
              "  </div>\n",
              "\n",
              "    </div>\n",
              "  </div>\n"
            ],
            "application/vnd.google.colaboratory.intrinsic+json": {
              "type": "dataframe",
              "variable_name": "tf_idf_df"
            }
          },
          "metadata": {},
          "execution_count": 62
        }
      ]
    },
    {
      "cell_type": "code",
      "source": [
        "import torch.nn.functional as F\n",
        "from torch import nn\n",
        "from torch.optim import Adam"
      ],
      "metadata": {
        "id": "sGKQEOOEmh5U"
      },
      "execution_count": null,
      "outputs": []
    },
    {
      "cell_type": "code",
      "source": [
        "class work (nn.Module):\n",
        "  def __init__(self, input_dim, hidden_dim, output_dim):\n",
        "    super(work, self).__init__()\n",
        "    self.fc1 = nn.Linear(input_dim, hidden_dim)\n",
        "    self.fc2 = nn.Linear(hidden_dim, output_dim)\n",
        "  def forward(self, x):\n",
        "    x= F.relu(self.fc1(x))\n",
        "    x= torch.sigmoid(self.fc2(x))\n",
        "    return x\n",
        "\n"
      ],
      "metadata": {
        "id": "9Sg0h7VcmvBD"
      },
      "execution_count": null,
      "outputs": []
    },
    {
      "cell_type": "code",
      "source": [
        "input_dim = tf_idf_df.shape[1]\n",
        "hidden_dim = 64\n",
        "output_dim = 1\n",
        "model = work(input_dim, hidden_dim, output_dim)\n",
        "\n",
        "optimizer = Adam(model.parameters(), lr=0.001)\n",
        "\n",
        "num_epochs = 10\n",
        "for epoch in range(num_epochs):\n",
        "  for batch_idx, (data, target) in enumerate(train_loader):\n",
        "    optimizer.zero_grad()\n",
        "    output = model(data)\n",
        "    loss = F.binary_cross_entropy(output.squeeze(), target)\n",
        "    loss.backward()\n",
        "    optimizer.step()\n",
        "    if batch_idx % 100 == 0:\n",
        "      print(f'Epoch [{epoch+1}/{num_epochs}], Step [{batch_idx+1}/{len(train_loader)}], Loss: {loss.item():.4f}')\n",
        "\n",
        "with torch.no_grad():\n",
        "  correct = 0\n",
        "  total = 0\n",
        "  for data, target in test_loader:\n",
        "    output = model(data)\n",
        "    predicted = (output > 0.5).float()\n",
        "    total += target.size(0)\n",
        "    correct += (predicted.squeeze() == target).sum().item()\n",
        "  print(f'Accuracy on test set: {100 * correct / total:.2f}%')\n"
      ],
      "metadata": {
        "colab": {
          "base_uri": "https://localhost:8080/"
        },
        "id": "YBu2mrtTm_hV",
        "outputId": "e1f0a4c4-c0d1-4f3a-fc57-12c1a7409bce"
      },
      "execution_count": null,
      "outputs": [
        {
          "output_type": "stream",
          "name": "stdout",
          "text": [
            "Epoch [1/10], Step [1/250], Loss: 0.6998\n",
            "Epoch [1/10], Step [101/250], Loss: 0.5685\n",
            "Epoch [1/10], Step [201/250], Loss: 0.4308\n",
            "Epoch [2/10], Step [1/250], Loss: 0.2759\n",
            "Epoch [2/10], Step [101/250], Loss: 0.1815\n",
            "Epoch [2/10], Step [201/250], Loss: 0.1119\n",
            "Epoch [3/10], Step [1/250], Loss: 0.0632\n",
            "Epoch [3/10], Step [101/250], Loss: 0.0755\n",
            "Epoch [3/10], Step [201/250], Loss: 0.0246\n",
            "Epoch [4/10], Step [1/250], Loss: 0.0306\n",
            "Epoch [4/10], Step [101/250], Loss: 0.0457\n",
            "Epoch [4/10], Step [201/250], Loss: 0.0248\n",
            "Epoch [5/10], Step [1/250], Loss: 0.0127\n",
            "Epoch [5/10], Step [101/250], Loss: 0.0111\n",
            "Epoch [5/10], Step [201/250], Loss: 0.0197\n",
            "Epoch [6/10], Step [1/250], Loss: 0.0077\n",
            "Epoch [6/10], Step [101/250], Loss: 0.0062\n",
            "Epoch [6/10], Step [201/250], Loss: 0.0056\n",
            "Epoch [7/10], Step [1/250], Loss: 0.0140\n",
            "Epoch [7/10], Step [101/250], Loss: 0.0046\n",
            "Epoch [7/10], Step [201/250], Loss: 0.0095\n",
            "Epoch [8/10], Step [1/250], Loss: 0.0059\n",
            "Epoch [8/10], Step [101/250], Loss: 0.0050\n",
            "Epoch [8/10], Step [201/250], Loss: 0.0089\n",
            "Epoch [9/10], Step [1/250], Loss: 0.0027\n",
            "Epoch [9/10], Step [101/250], Loss: 0.0018\n",
            "Epoch [9/10], Step [201/250], Loss: 0.0023\n",
            "Epoch [10/10], Step [1/250], Loss: 0.0031\n",
            "Epoch [10/10], Step [101/250], Loss: 0.0027\n",
            "Epoch [10/10], Step [201/250], Loss: 0.0065\n",
            "Accuracy on test set: 96.55%\n"
          ]
        }
      ]
    },
    {
      "cell_type": "code",
      "source": [
        "class SimpleRNN(nn.Module):\n",
        "  def __init__(self, input_size, hidden_size, output_size):\n",
        "    super(SimpleRNN, self).__init__()\n",
        "    self.rnn = nn.RNN(input_size, hidden_size, batch_first=True)\n",
        "    self.fc = nn.Linear(hidden_size, output_size)\n",
        "\n",
        "\n",
        "  def forward(self, x):\n",
        "    h0 = torch.zeros(1, x.size(0), hidden_size).to(x.device)\n",
        "    out, _ = self.rnn(x,h0)\n",
        "    out = self.fc(out[:, -1, :])\n",
        "    out = torch.sigmoid(out)\n",
        "    return out"
      ],
      "metadata": {
        "id": "cZOaqQRwoF0a"
      },
      "execution_count": null,
      "outputs": []
    },
    {
      "cell_type": "code",
      "source": [
        "input_size = tweets_matrix.shape[1]\n",
        "hidden_size = 64\n",
        "output_size = 1\n",
        "model = SimpleRNN(input_size, hidden_size, output_size)"
      ],
      "metadata": {
        "id": "rdqOIa7-omdB"
      },
      "execution_count": null,
      "outputs": []
    },
    {
      "cell_type": "code",
      "source": [
        "model"
      ],
      "metadata": {
        "colab": {
          "base_uri": "https://localhost:8080/"
        },
        "id": "UUKGtOeApCA1",
        "outputId": "ca05db54-e72b-488e-bb99-7d2c61ea6042"
      },
      "execution_count": null,
      "outputs": [
        {
          "output_type": "execute_result",
          "data": {
            "text/plain": [
              "SimpleRNN(\n",
              "  (rnn): RNN(9221, 64, batch_first=True)\n",
              "  (fc): Linear(in_features=64, out_features=1, bias=True)\n",
              ")"
            ]
          },
          "metadata": {},
          "execution_count": 70
        }
      ]
    },
    {
      "cell_type": "code",
      "source": [
        "from torch.optim import Adam\n",
        "\n",
        "criterion = nn.BCELoss()\n",
        "optimizer = Adam(model.parameters(), lr=0.001)\n",
        "\n",
        "num_epochs = 10\n",
        "model.train()\n",
        "\n",
        "for epoch in range(num_epochs):\n",
        "  for batch_features, batch_labels in train_loader:\n",
        "    batch_features = batch_features.view(batch_features.size(0), 1, -1)\n",
        "    outputs = model(batch_features)\n",
        "    loss = criterion(outputs.squeeze(), batch_labels)\n",
        "    optimizer.zero_grad()\n",
        "    loss.backward()\n",
        "    optimizer.step()\n",
        "\n",
        "    print(f'Epoch [{epoch+1}/{num_epochs}], Loss: {loss.item():.4f}')"
      ],
      "metadata": {
        "id": "orZ2wOzZpht0"
      },
      "execution_count": null,
      "outputs": []
    },
    {
      "cell_type": "code",
      "source": [
        "model.eval()\n",
        "with torch.no_grad():\n",
        "  correct = 0\n",
        "  total = 0\n",
        "  for batch_features, batch_labels in test_loader:\n",
        "    batch_features = batch_features.view(batch_features.size(0), 1, -1)\n",
        "    outputs = model(batch_features)\n",
        "    predicted = (outputs > 0.5).int()\n",
        "    total += batch_labels.size(0)\n",
        "    correct += (predicted.squeeze() == batch_labels).sum().item()\n",
        "  accuracy = 100 * correct / total\n",
        "  print(f'Accuracy on test set: {accuracy:.2f}%')"
      ],
      "metadata": {
        "colab": {
          "base_uri": "https://localhost:8080/"
        },
        "id": "406oBvoys_Zz",
        "outputId": "c1221b98-4b18-4a12-a236-131719753124"
      },
      "execution_count": null,
      "outputs": [
        {
          "output_type": "stream",
          "name": "stdout",
          "text": [
            "Accuracy on test set: 96.40%\n"
          ]
        }
      ]
    }
  ],
  "metadata": {
    "kernelspec": {
      "display_name": "Python 3 (ipykernel)",
      "language": "python",
      "name": "python3"
    },
    "language_info": {
      "codemirror_mode": {
        "name": "ipython",
        "version": 3
      },
      "file_extension": ".py",
      "mimetype": "text/x-python",
      "name": "python",
      "nbconvert_exporter": "python",
      "pygments_lexer": "ipython3",
      "version": "3.11.7"
    },
    "colab": {
      "provenance": [],
      "collapsed_sections": [
        "YU-vr8fLa4C_",
        "ud9LDqT7a4DB",
        "gBH3Efaxa4DD"
      ],
      "include_colab_link": true
    }
  },
  "nbformat": 4,
  "nbformat_minor": 0
}